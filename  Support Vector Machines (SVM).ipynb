{
 "cells": [
  {
   "cell_type": "markdown",
   "metadata": {},
   "source": [
    "# Credit Card Fraud Detection using SVM Classifier #"
   ]
  },
  {
   "cell_type": "markdown",
   "metadata": {},
   "source": [
    "1. Credit Card Fraud Detection Dataset Overview\n",
    "\n",
    "This dataset is tailored for a binary classification task, aiming to predict fraudulent credit card transactions. It meets the exercise's requirements with its substantial size, featuring transactions made by European cardholders in September 2013. It includes 284,807 transactions (instances) and 31 features (attributes), including Time, Amount, and 28 anonymized features obtained through PCA transformation, along with the Class label indicating fraud (1) or not fraud (0).\n",
    "\n",
    "Objective: The goal is to identify fraudulent credit card transactions using the SVM algorithm.\n",
    "\n",
    "Data Management and Ethical Considerations\n",
    "\n",
    "Privacy Protection\n",
    "\n",
    "Anonymization: The dataset has been processed with PCA, ensuring that sensitive personal details related to the credit card transactions are anonymized. The original features are transformed into principal components, which are numeric and do not hold any identifiable information about the cardholder.\n",
    "Compliance with Privacy Regulations: The preprocessing step of PCA transformation aligns with privacy protection measures, making the dataset compliant with data protection regulations like GDPR by ensuring that individuals cannot be directly or indirectly identified.\n",
    "Intellectual Property Rights\n",
    "\n",
    "Dataset Licensing: Kaggle, as the platform hosting the dataset, provides terms of use that cover how datasets can be accessed and used. Users are generally allowed to download and use the data for personal and research purposes, adhering to the specified terms, which often encourage academic and educational use while respecting the creators' intellectual property rights.\n",
    "Contribution and Citation: The dataset has been collected and analyzed through a research collaboration between Worldline and the Machine Learning Group (MLG) of ULB (Université Libre de Bruxelles). Kaggle's platform encourages citing the original creators if the dataset is used for research publications, acknowledging their contribution and effort.\n",
    "\n",
    "Accessibility and Reproducibility\n",
    "\n",
    "Kaggle provides an accessible platform for data scientists and researchers to access a wide range of datasets, including the Credit Card Fraud Detection dataset. The platform encourages open science and reproducibility by allowing dataset creators to share not only the data but also kernels (code notebooks), facilitating transparent and reproducible analysis.\n"
   ]
  },
  {
   "cell_type": "markdown",
   "metadata": {},
   "source": [
    "2. Specialties and differences of SVM compared to other ML algorithms\n",
    "\n",
    "The Support Vector Machine (SVM) algorithm holds a unique place among machine learning algorithms due to several distinctive features and the mathematical framework it employs. Here's what makes SVM particularly special and different from other machine learning algorithms:\n",
    "1. Maximization of the Margin:\n",
    "SVM seeks not only to separate the classes but to do so with the maximum margin, which is the distance between the hyperplane (decision boundary) and the nearest data point from either class. This is a fundamental difference from most other classifiers, which do not explicitly consider the margin. The intuition is that a larger margin provides a more robust model with better generalization ability.\n",
    "2. Support Vectors:\n",
    "Only a subset of the training data, the so-called support vectors, determine the position of the decision boundary. These are the data points that lie closest to the decision boundary. This makes the SVM model not only compact but also somewhat immune to the influence of data points that are far from the decision boundary, potentially reducing overfitting.\n",
    "3. Kernel Trick:\n",
    "SVM can implicitly map input features into high-dimensional feature spaces where the data might be more easily separable, without the need to compute the coordinates in this high-dimensional space explicitly. This kernel trick allows SVM to solve non-linear classification problems using the same framework used for linear classification, making it versatile and powerful.\n",
    "4. Convex Optimization:\n",
    "The SVM optimization problem is convex, which means that any local minimum is also a global minimum. This property ensures that the solution found by the SVM algorithm is the best possible solution and is not dependent on the initial parameter settings or random initialization, a challenge often faced by neural network models.\n",
    "\n",
    "Using SVM in Analysis:\n",
    "When using SVM for analysis, the following steps and considerations encapsulate its application:\n",
    "Step 1: Preprocessing\n",
    "•\tFeature Scaling: SVM is sensitive to the scale of the features, so normalization or standardization is crucial.\n",
    "•\tHandling Missing Values: Ensure that the dataset is complete without missing values, as SVM does not inherently handle them.\n",
    "Step 2: Choosing the Kernel\n",
    "•\tLinear SVM: When the data is linearly separable or when the number of features is large compared to the number of samples.\n",
    "•\tNon-linear SVM: Applying kernels like RBF, Polynomial, or Sigmoid when the data is not linearly separable.\n",
    "Step 3: Model Training\n",
    "•\tFit the SVM model to the training data, choosing parameters such as the regularization parameter (C) and the kernel-specific parameters (e.g., gamma in the RBF kernel).\n",
    "Step 4: Model Evaluation\n",
    "•\tEvaluate the model's performance using appropriate metrics such as accuracy, precision, recall, F1-score, and the ROC-AUC curve, especially considering the problem's context and dataset imbalance.\n",
    "Step 5: Hyperparameter Tuning\n",
    "•\tUse methods like grid search or randomized search to find the optimal model parameters, including the regularization parameter and kernel parameters.\n",
    "\n",
    "Mathematical Representation and Assumptions:\n",
    "•\tThe SVM algorithm works by finding a hyperplane that best divides a dataset into classes. The decision function is f(x)=wx+b, where w is the weight vector, and b is the bias.\n",
    "•\tAssumption: The primary assumption is that the data, when projected into a high-dimensional space, can be separated by a hyperplane. The effectiveness of SVM, especially in non-linear cases, heavily relies on the kernel choice, which implicitly defines the feature space where the separation is attempted.\n",
    "\n",
    "SVM's distinct approach to maximizing the margin and its ability to handle both linear and non-linear data through kernel functions make it a powerful tool for classification tasks, offering both flexibility and robustness in building predictive models.\n",
    "\n"
   ]
  },
  {
   "cell_type": "markdown",
   "metadata": {},
   "source": [
    "3. Kernel, Hyperplane, and Decision Boundary in SVM\n",
    "\n",
    "Kernel\n",
    "\n",
    "The kernel in SVM is a function that takes low-dimensional input space and transforms it into a higher-dimensional space. It's a way to make non-linearly separable data linearly separable by increasing the dimensions. Essentially, the kernel trick allows the SVM to find a separating hyperplane in the transformed feature space without explicitly computing the coordinates in this high-dimensional space, which can be computationally expensive. Common kernels include linear, polynomial, radial basis function (RBF), and sigmoid.\n",
    "\n",
    "Hyperplane\n",
    "\n",
    "A hyperplane is a flat affine subspace (think of it as a line in 2D, a plane in 3D, and so on) that separates the feature space into two parts. In the context of SVM, the hyperplane is the decision boundary that separates the classes in the feature space. The SVM algorithm tries to find the optimal hyperplane that maximizes the margin between classes.\n",
    "\n",
    "Decision Boundary\n",
    "\n",
    "The decision boundary is the surface implied by the hyperplane in the feature space that separates different classes. In simple terms, it's the \"line\" or \"plane\" that divides the space such that points on one side of it are classified into one class, and points on the other side are classified into another class. The decision boundary determined by the SVM hyperplane is optimal in the sense that it maximizes the margin between classes."
   ]
  },
  {
   "cell_type": "markdown",
   "metadata": {},
   "source": [
    "4. Maximum Margin, Support Vectors, and Maximum Margin Hyperplane in SVM\n",
    "Maximum Margin\n",
    "\n",
    "The maximum margin is the width that the boundary could be increased by before hitting a data point. It represents the largest distance between the nearest data point of any class and the hyperplane, ensuring that the classes are as separated as possible. The intuition behind maximizing the margin is that a larger margin between the classes will help the model generalize better to unseen data, reducing overfitting.\n",
    "\n",
    "Support Vectors\n",
    "\n",
    "Support vectors are the data points that are closest to the hyperplane and directly influence its position and orientation. These points lie on the edge of the margin, on either side of the hyperplane. In SVM, only the support vectors are relevant in defining the hyperplane and the decision boundary, meaning that removing any other points or adding more points far from the margin will not affect the model's predictions. This property makes SVM models relatively efficient and robust.\n",
    "\n",
    "Maximum Margin Hyperplane\n",
    "\n",
    "The maximum margin hyperplane is the hyperplane that lies halfway between the support vectors of the two classes and maximizes the margin between those classes. It is the optimal decision boundary found by the SVM that minimizes classification errors while maximizing the separation (margin) between classes. The maximum margin hyperplane is determined by the support vectors, which, as mentioned, are the data points that are nearest to the decision boundary.\n",
    "\n",
    "In summary, these concepts play a central role in the SVM's ability to classify data points. The kernel allows handling non-linear data, the hyperplane (and its associated decision boundary) separates the classes, and the maximum margin principle ensures that the separation is as clear and robust as possible, with support vectors being the critical elements that define this separation."
   ]
  },
  {
   "cell_type": "code",
   "execution_count": 24,
   "metadata": {},
   "outputs": [],
   "source": [
    "# 5. import libraries\n",
    "import pandas as pd\n",
    "import numpy as np\n",
    "from sklearn.model_selection import train_test_split\n",
    "from sklearn.preprocessing import StandardScaler\n",
    "from sklearn import svm\n",
    "from sklearn.metrics import confusion_matrix, accuracy_score, classification_report, roc_auc_score\n",
    "import matplotlib.pyplot as plt\n",
    "import seaborn as sns\n",
    "\n",
    "# Assuming the dataset is stored as 'creditcard.csv'\n",
    "df = pd.read_csv('/Users/rameshchidurala/Documents/DSC-540 Assignments/creditcard.csv')\n"
   ]
  },
  {
   "cell_type": "code",
   "execution_count": 25,
   "metadata": {},
   "outputs": [
    {
     "data": {
      "text/html": [
       "<div>\n",
       "<style scoped>\n",
       "    .dataframe tbody tr th:only-of-type {\n",
       "        vertical-align: middle;\n",
       "    }\n",
       "\n",
       "    .dataframe tbody tr th {\n",
       "        vertical-align: top;\n",
       "    }\n",
       "\n",
       "    .dataframe thead th {\n",
       "        text-align: right;\n",
       "    }\n",
       "</style>\n",
       "<table border=\"1\" class=\"dataframe\">\n",
       "  <thead>\n",
       "    <tr style=\"text-align: right;\">\n",
       "      <th></th>\n",
       "      <th>Time</th>\n",
       "      <th>V1</th>\n",
       "      <th>V2</th>\n",
       "      <th>V3</th>\n",
       "      <th>V4</th>\n",
       "      <th>V5</th>\n",
       "      <th>V6</th>\n",
       "      <th>V7</th>\n",
       "      <th>V8</th>\n",
       "      <th>V9</th>\n",
       "      <th>...</th>\n",
       "      <th>V21</th>\n",
       "      <th>V22</th>\n",
       "      <th>V23</th>\n",
       "      <th>V24</th>\n",
       "      <th>V25</th>\n",
       "      <th>V26</th>\n",
       "      <th>V27</th>\n",
       "      <th>V28</th>\n",
       "      <th>Amount</th>\n",
       "      <th>Class</th>\n",
       "    </tr>\n",
       "  </thead>\n",
       "  <tbody>\n",
       "    <tr>\n",
       "      <th>0</th>\n",
       "      <td>0.0</td>\n",
       "      <td>-1.359807</td>\n",
       "      <td>-0.072781</td>\n",
       "      <td>2.536347</td>\n",
       "      <td>1.378155</td>\n",
       "      <td>-0.338321</td>\n",
       "      <td>0.462388</td>\n",
       "      <td>0.239599</td>\n",
       "      <td>0.098698</td>\n",
       "      <td>0.363787</td>\n",
       "      <td>...</td>\n",
       "      <td>-0.018307</td>\n",
       "      <td>0.277838</td>\n",
       "      <td>-0.110474</td>\n",
       "      <td>0.066928</td>\n",
       "      <td>0.128539</td>\n",
       "      <td>-0.189115</td>\n",
       "      <td>0.133558</td>\n",
       "      <td>-0.021053</td>\n",
       "      <td>149.62</td>\n",
       "      <td>0</td>\n",
       "    </tr>\n",
       "    <tr>\n",
       "      <th>1</th>\n",
       "      <td>0.0</td>\n",
       "      <td>1.191857</td>\n",
       "      <td>0.266151</td>\n",
       "      <td>0.166480</td>\n",
       "      <td>0.448154</td>\n",
       "      <td>0.060018</td>\n",
       "      <td>-0.082361</td>\n",
       "      <td>-0.078803</td>\n",
       "      <td>0.085102</td>\n",
       "      <td>-0.255425</td>\n",
       "      <td>...</td>\n",
       "      <td>-0.225775</td>\n",
       "      <td>-0.638672</td>\n",
       "      <td>0.101288</td>\n",
       "      <td>-0.339846</td>\n",
       "      <td>0.167170</td>\n",
       "      <td>0.125895</td>\n",
       "      <td>-0.008983</td>\n",
       "      <td>0.014724</td>\n",
       "      <td>2.69</td>\n",
       "      <td>0</td>\n",
       "    </tr>\n",
       "    <tr>\n",
       "      <th>2</th>\n",
       "      <td>1.0</td>\n",
       "      <td>-1.358354</td>\n",
       "      <td>-1.340163</td>\n",
       "      <td>1.773209</td>\n",
       "      <td>0.379780</td>\n",
       "      <td>-0.503198</td>\n",
       "      <td>1.800499</td>\n",
       "      <td>0.791461</td>\n",
       "      <td>0.247676</td>\n",
       "      <td>-1.514654</td>\n",
       "      <td>...</td>\n",
       "      <td>0.247998</td>\n",
       "      <td>0.771679</td>\n",
       "      <td>0.909412</td>\n",
       "      <td>-0.689281</td>\n",
       "      <td>-0.327642</td>\n",
       "      <td>-0.139097</td>\n",
       "      <td>-0.055353</td>\n",
       "      <td>-0.059752</td>\n",
       "      <td>378.66</td>\n",
       "      <td>0</td>\n",
       "    </tr>\n",
       "    <tr>\n",
       "      <th>3</th>\n",
       "      <td>1.0</td>\n",
       "      <td>-0.966272</td>\n",
       "      <td>-0.185226</td>\n",
       "      <td>1.792993</td>\n",
       "      <td>-0.863291</td>\n",
       "      <td>-0.010309</td>\n",
       "      <td>1.247203</td>\n",
       "      <td>0.237609</td>\n",
       "      <td>0.377436</td>\n",
       "      <td>-1.387024</td>\n",
       "      <td>...</td>\n",
       "      <td>-0.108300</td>\n",
       "      <td>0.005274</td>\n",
       "      <td>-0.190321</td>\n",
       "      <td>-1.175575</td>\n",
       "      <td>0.647376</td>\n",
       "      <td>-0.221929</td>\n",
       "      <td>0.062723</td>\n",
       "      <td>0.061458</td>\n",
       "      <td>123.50</td>\n",
       "      <td>0</td>\n",
       "    </tr>\n",
       "    <tr>\n",
       "      <th>4</th>\n",
       "      <td>2.0</td>\n",
       "      <td>-1.158233</td>\n",
       "      <td>0.877737</td>\n",
       "      <td>1.548718</td>\n",
       "      <td>0.403034</td>\n",
       "      <td>-0.407193</td>\n",
       "      <td>0.095921</td>\n",
       "      <td>0.592941</td>\n",
       "      <td>-0.270533</td>\n",
       "      <td>0.817739</td>\n",
       "      <td>...</td>\n",
       "      <td>-0.009431</td>\n",
       "      <td>0.798278</td>\n",
       "      <td>-0.137458</td>\n",
       "      <td>0.141267</td>\n",
       "      <td>-0.206010</td>\n",
       "      <td>0.502292</td>\n",
       "      <td>0.219422</td>\n",
       "      <td>0.215153</td>\n",
       "      <td>69.99</td>\n",
       "      <td>0</td>\n",
       "    </tr>\n",
       "  </tbody>\n",
       "</table>\n",
       "<p>5 rows × 31 columns</p>\n",
       "</div>"
      ],
      "text/plain": [
       "   Time        V1        V2        V3        V4        V5        V6        V7  \\\n",
       "0   0.0 -1.359807 -0.072781  2.536347  1.378155 -0.338321  0.462388  0.239599   \n",
       "1   0.0  1.191857  0.266151  0.166480  0.448154  0.060018 -0.082361 -0.078803   \n",
       "2   1.0 -1.358354 -1.340163  1.773209  0.379780 -0.503198  1.800499  0.791461   \n",
       "3   1.0 -0.966272 -0.185226  1.792993 -0.863291 -0.010309  1.247203  0.237609   \n",
       "4   2.0 -1.158233  0.877737  1.548718  0.403034 -0.407193  0.095921  0.592941   \n",
       "\n",
       "         V8        V9  ...       V21       V22       V23       V24       V25  \\\n",
       "0  0.098698  0.363787  ... -0.018307  0.277838 -0.110474  0.066928  0.128539   \n",
       "1  0.085102 -0.255425  ... -0.225775 -0.638672  0.101288 -0.339846  0.167170   \n",
       "2  0.247676 -1.514654  ...  0.247998  0.771679  0.909412 -0.689281 -0.327642   \n",
       "3  0.377436 -1.387024  ... -0.108300  0.005274 -0.190321 -1.175575  0.647376   \n",
       "4 -0.270533  0.817739  ... -0.009431  0.798278 -0.137458  0.141267 -0.206010   \n",
       "\n",
       "        V26       V27       V28  Amount  Class  \n",
       "0 -0.189115  0.133558 -0.021053  149.62      0  \n",
       "1  0.125895 -0.008983  0.014724    2.69      0  \n",
       "2 -0.139097 -0.055353 -0.059752  378.66      0  \n",
       "3 -0.221929  0.062723  0.061458  123.50      0  \n",
       "4  0.502292  0.219422  0.215153   69.99      0  \n",
       "\n",
       "[5 rows x 31 columns]"
      ]
     },
     "execution_count": 25,
     "metadata": {},
     "output_type": "execute_result"
    }
   ],
   "source": [
    "df.head()"
   ]
  },
  {
   "cell_type": "code",
   "execution_count": 26,
   "metadata": {},
   "outputs": [
    {
     "name": "stdout",
     "output_type": "stream",
     "text": [
      "<class 'pandas.core.frame.DataFrame'>\n",
      "RangeIndex: 284807 entries, 0 to 284806\n",
      "Data columns (total 31 columns):\n",
      " #   Column  Non-Null Count   Dtype  \n",
      "---  ------  --------------   -----  \n",
      " 0   Time    284807 non-null  float64\n",
      " 1   V1      284807 non-null  float64\n",
      " 2   V2      284807 non-null  float64\n",
      " 3   V3      284807 non-null  float64\n",
      " 4   V4      284807 non-null  float64\n",
      " 5   V5      284807 non-null  float64\n",
      " 6   V6      284807 non-null  float64\n",
      " 7   V7      284807 non-null  float64\n",
      " 8   V8      284807 non-null  float64\n",
      " 9   V9      284807 non-null  float64\n",
      " 10  V10     284807 non-null  float64\n",
      " 11  V11     284807 non-null  float64\n",
      " 12  V12     284807 non-null  float64\n",
      " 13  V13     284807 non-null  float64\n",
      " 14  V14     284807 non-null  float64\n",
      " 15  V15     284807 non-null  float64\n",
      " 16  V16     284807 non-null  float64\n",
      " 17  V17     284807 non-null  float64\n",
      " 18  V18     284807 non-null  float64\n",
      " 19  V19     284807 non-null  float64\n",
      " 20  V20     284807 non-null  float64\n",
      " 21  V21     284807 non-null  float64\n",
      " 22  V22     284807 non-null  float64\n",
      " 23  V23     284807 non-null  float64\n",
      " 24  V24     284807 non-null  float64\n",
      " 25  V25     284807 non-null  float64\n",
      " 26  V26     284807 non-null  float64\n",
      " 27  V27     284807 non-null  float64\n",
      " 28  V28     284807 non-null  float64\n",
      " 29  Amount  284807 non-null  float64\n",
      " 30  Class   284807 non-null  int64  \n",
      "dtypes: float64(30), int64(1)\n",
      "memory usage: 67.4 MB\n"
     ]
    }
   ],
   "source": [
    "df.info()"
   ]
  },
  {
   "cell_type": "code",
   "execution_count": 27,
   "metadata": {},
   "outputs": [
    {
     "data": {
      "text/html": [
       "<div>\n",
       "<style scoped>\n",
       "    .dataframe tbody tr th:only-of-type {\n",
       "        vertical-align: middle;\n",
       "    }\n",
       "\n",
       "    .dataframe tbody tr th {\n",
       "        vertical-align: top;\n",
       "    }\n",
       "\n",
       "    .dataframe thead th {\n",
       "        text-align: right;\n",
       "    }\n",
       "</style>\n",
       "<table border=\"1\" class=\"dataframe\">\n",
       "  <thead>\n",
       "    <tr style=\"text-align: right;\">\n",
       "      <th></th>\n",
       "      <th>Time</th>\n",
       "      <th>V1</th>\n",
       "      <th>V2</th>\n",
       "      <th>V3</th>\n",
       "      <th>V4</th>\n",
       "      <th>V5</th>\n",
       "      <th>V6</th>\n",
       "      <th>V7</th>\n",
       "      <th>V8</th>\n",
       "      <th>V9</th>\n",
       "      <th>...</th>\n",
       "      <th>V21</th>\n",
       "      <th>V22</th>\n",
       "      <th>V23</th>\n",
       "      <th>V24</th>\n",
       "      <th>V25</th>\n",
       "      <th>V26</th>\n",
       "      <th>V27</th>\n",
       "      <th>V28</th>\n",
       "      <th>Amount</th>\n",
       "      <th>Class</th>\n",
       "    </tr>\n",
       "  </thead>\n",
       "  <tbody>\n",
       "    <tr>\n",
       "      <th>count</th>\n",
       "      <td>284807.000000</td>\n",
       "      <td>2.848070e+05</td>\n",
       "      <td>2.848070e+05</td>\n",
       "      <td>2.848070e+05</td>\n",
       "      <td>2.848070e+05</td>\n",
       "      <td>2.848070e+05</td>\n",
       "      <td>2.848070e+05</td>\n",
       "      <td>2.848070e+05</td>\n",
       "      <td>2.848070e+05</td>\n",
       "      <td>2.848070e+05</td>\n",
       "      <td>...</td>\n",
       "      <td>2.848070e+05</td>\n",
       "      <td>2.848070e+05</td>\n",
       "      <td>2.848070e+05</td>\n",
       "      <td>2.848070e+05</td>\n",
       "      <td>2.848070e+05</td>\n",
       "      <td>2.848070e+05</td>\n",
       "      <td>2.848070e+05</td>\n",
       "      <td>2.848070e+05</td>\n",
       "      <td>284807.000000</td>\n",
       "      <td>284807.000000</td>\n",
       "    </tr>\n",
       "    <tr>\n",
       "      <th>mean</th>\n",
       "      <td>94813.859575</td>\n",
       "      <td>1.168375e-15</td>\n",
       "      <td>3.416908e-16</td>\n",
       "      <td>-1.379537e-15</td>\n",
       "      <td>2.074095e-15</td>\n",
       "      <td>9.604066e-16</td>\n",
       "      <td>1.487313e-15</td>\n",
       "      <td>-5.556467e-16</td>\n",
       "      <td>1.213481e-16</td>\n",
       "      <td>-2.406331e-15</td>\n",
       "      <td>...</td>\n",
       "      <td>1.654067e-16</td>\n",
       "      <td>-3.568593e-16</td>\n",
       "      <td>2.578648e-16</td>\n",
       "      <td>4.473266e-15</td>\n",
       "      <td>5.340915e-16</td>\n",
       "      <td>1.683437e-15</td>\n",
       "      <td>-3.660091e-16</td>\n",
       "      <td>-1.227390e-16</td>\n",
       "      <td>88.349619</td>\n",
       "      <td>0.001727</td>\n",
       "    </tr>\n",
       "    <tr>\n",
       "      <th>std</th>\n",
       "      <td>47488.145955</td>\n",
       "      <td>1.958696e+00</td>\n",
       "      <td>1.651309e+00</td>\n",
       "      <td>1.516255e+00</td>\n",
       "      <td>1.415869e+00</td>\n",
       "      <td>1.380247e+00</td>\n",
       "      <td>1.332271e+00</td>\n",
       "      <td>1.237094e+00</td>\n",
       "      <td>1.194353e+00</td>\n",
       "      <td>1.098632e+00</td>\n",
       "      <td>...</td>\n",
       "      <td>7.345240e-01</td>\n",
       "      <td>7.257016e-01</td>\n",
       "      <td>6.244603e-01</td>\n",
       "      <td>6.056471e-01</td>\n",
       "      <td>5.212781e-01</td>\n",
       "      <td>4.822270e-01</td>\n",
       "      <td>4.036325e-01</td>\n",
       "      <td>3.300833e-01</td>\n",
       "      <td>250.120109</td>\n",
       "      <td>0.041527</td>\n",
       "    </tr>\n",
       "    <tr>\n",
       "      <th>min</th>\n",
       "      <td>0.000000</td>\n",
       "      <td>-5.640751e+01</td>\n",
       "      <td>-7.271573e+01</td>\n",
       "      <td>-4.832559e+01</td>\n",
       "      <td>-5.683171e+00</td>\n",
       "      <td>-1.137433e+02</td>\n",
       "      <td>-2.616051e+01</td>\n",
       "      <td>-4.355724e+01</td>\n",
       "      <td>-7.321672e+01</td>\n",
       "      <td>-1.343407e+01</td>\n",
       "      <td>...</td>\n",
       "      <td>-3.483038e+01</td>\n",
       "      <td>-1.093314e+01</td>\n",
       "      <td>-4.480774e+01</td>\n",
       "      <td>-2.836627e+00</td>\n",
       "      <td>-1.029540e+01</td>\n",
       "      <td>-2.604551e+00</td>\n",
       "      <td>-2.256568e+01</td>\n",
       "      <td>-1.543008e+01</td>\n",
       "      <td>0.000000</td>\n",
       "      <td>0.000000</td>\n",
       "    </tr>\n",
       "    <tr>\n",
       "      <th>25%</th>\n",
       "      <td>54201.500000</td>\n",
       "      <td>-9.203734e-01</td>\n",
       "      <td>-5.985499e-01</td>\n",
       "      <td>-8.903648e-01</td>\n",
       "      <td>-8.486401e-01</td>\n",
       "      <td>-6.915971e-01</td>\n",
       "      <td>-7.682956e-01</td>\n",
       "      <td>-5.540759e-01</td>\n",
       "      <td>-2.086297e-01</td>\n",
       "      <td>-6.430976e-01</td>\n",
       "      <td>...</td>\n",
       "      <td>-2.283949e-01</td>\n",
       "      <td>-5.423504e-01</td>\n",
       "      <td>-1.618463e-01</td>\n",
       "      <td>-3.545861e-01</td>\n",
       "      <td>-3.171451e-01</td>\n",
       "      <td>-3.269839e-01</td>\n",
       "      <td>-7.083953e-02</td>\n",
       "      <td>-5.295979e-02</td>\n",
       "      <td>5.600000</td>\n",
       "      <td>0.000000</td>\n",
       "    </tr>\n",
       "    <tr>\n",
       "      <th>50%</th>\n",
       "      <td>84692.000000</td>\n",
       "      <td>1.810880e-02</td>\n",
       "      <td>6.548556e-02</td>\n",
       "      <td>1.798463e-01</td>\n",
       "      <td>-1.984653e-02</td>\n",
       "      <td>-5.433583e-02</td>\n",
       "      <td>-2.741871e-01</td>\n",
       "      <td>4.010308e-02</td>\n",
       "      <td>2.235804e-02</td>\n",
       "      <td>-5.142873e-02</td>\n",
       "      <td>...</td>\n",
       "      <td>-2.945017e-02</td>\n",
       "      <td>6.781943e-03</td>\n",
       "      <td>-1.119293e-02</td>\n",
       "      <td>4.097606e-02</td>\n",
       "      <td>1.659350e-02</td>\n",
       "      <td>-5.213911e-02</td>\n",
       "      <td>1.342146e-03</td>\n",
       "      <td>1.124383e-02</td>\n",
       "      <td>22.000000</td>\n",
       "      <td>0.000000</td>\n",
       "    </tr>\n",
       "    <tr>\n",
       "      <th>75%</th>\n",
       "      <td>139320.500000</td>\n",
       "      <td>1.315642e+00</td>\n",
       "      <td>8.037239e-01</td>\n",
       "      <td>1.027196e+00</td>\n",
       "      <td>7.433413e-01</td>\n",
       "      <td>6.119264e-01</td>\n",
       "      <td>3.985649e-01</td>\n",
       "      <td>5.704361e-01</td>\n",
       "      <td>3.273459e-01</td>\n",
       "      <td>5.971390e-01</td>\n",
       "      <td>...</td>\n",
       "      <td>1.863772e-01</td>\n",
       "      <td>5.285536e-01</td>\n",
       "      <td>1.476421e-01</td>\n",
       "      <td>4.395266e-01</td>\n",
       "      <td>3.507156e-01</td>\n",
       "      <td>2.409522e-01</td>\n",
       "      <td>9.104512e-02</td>\n",
       "      <td>7.827995e-02</td>\n",
       "      <td>77.165000</td>\n",
       "      <td>0.000000</td>\n",
       "    </tr>\n",
       "    <tr>\n",
       "      <th>max</th>\n",
       "      <td>172792.000000</td>\n",
       "      <td>2.454930e+00</td>\n",
       "      <td>2.205773e+01</td>\n",
       "      <td>9.382558e+00</td>\n",
       "      <td>1.687534e+01</td>\n",
       "      <td>3.480167e+01</td>\n",
       "      <td>7.330163e+01</td>\n",
       "      <td>1.205895e+02</td>\n",
       "      <td>2.000721e+01</td>\n",
       "      <td>1.559499e+01</td>\n",
       "      <td>...</td>\n",
       "      <td>2.720284e+01</td>\n",
       "      <td>1.050309e+01</td>\n",
       "      <td>2.252841e+01</td>\n",
       "      <td>4.584549e+00</td>\n",
       "      <td>7.519589e+00</td>\n",
       "      <td>3.517346e+00</td>\n",
       "      <td>3.161220e+01</td>\n",
       "      <td>3.384781e+01</td>\n",
       "      <td>25691.160000</td>\n",
       "      <td>1.000000</td>\n",
       "    </tr>\n",
       "  </tbody>\n",
       "</table>\n",
       "<p>8 rows × 31 columns</p>\n",
       "</div>"
      ],
      "text/plain": [
       "                Time            V1            V2            V3            V4  \\\n",
       "count  284807.000000  2.848070e+05  2.848070e+05  2.848070e+05  2.848070e+05   \n",
       "mean    94813.859575  1.168375e-15  3.416908e-16 -1.379537e-15  2.074095e-15   \n",
       "std     47488.145955  1.958696e+00  1.651309e+00  1.516255e+00  1.415869e+00   \n",
       "min         0.000000 -5.640751e+01 -7.271573e+01 -4.832559e+01 -5.683171e+00   \n",
       "25%     54201.500000 -9.203734e-01 -5.985499e-01 -8.903648e-01 -8.486401e-01   \n",
       "50%     84692.000000  1.810880e-02  6.548556e-02  1.798463e-01 -1.984653e-02   \n",
       "75%    139320.500000  1.315642e+00  8.037239e-01  1.027196e+00  7.433413e-01   \n",
       "max    172792.000000  2.454930e+00  2.205773e+01  9.382558e+00  1.687534e+01   \n",
       "\n",
       "                 V5            V6            V7            V8            V9  \\\n",
       "count  2.848070e+05  2.848070e+05  2.848070e+05  2.848070e+05  2.848070e+05   \n",
       "mean   9.604066e-16  1.487313e-15 -5.556467e-16  1.213481e-16 -2.406331e-15   \n",
       "std    1.380247e+00  1.332271e+00  1.237094e+00  1.194353e+00  1.098632e+00   \n",
       "min   -1.137433e+02 -2.616051e+01 -4.355724e+01 -7.321672e+01 -1.343407e+01   \n",
       "25%   -6.915971e-01 -7.682956e-01 -5.540759e-01 -2.086297e-01 -6.430976e-01   \n",
       "50%   -5.433583e-02 -2.741871e-01  4.010308e-02  2.235804e-02 -5.142873e-02   \n",
       "75%    6.119264e-01  3.985649e-01  5.704361e-01  3.273459e-01  5.971390e-01   \n",
       "max    3.480167e+01  7.330163e+01  1.205895e+02  2.000721e+01  1.559499e+01   \n",
       "\n",
       "       ...           V21           V22           V23           V24  \\\n",
       "count  ...  2.848070e+05  2.848070e+05  2.848070e+05  2.848070e+05   \n",
       "mean   ...  1.654067e-16 -3.568593e-16  2.578648e-16  4.473266e-15   \n",
       "std    ...  7.345240e-01  7.257016e-01  6.244603e-01  6.056471e-01   \n",
       "min    ... -3.483038e+01 -1.093314e+01 -4.480774e+01 -2.836627e+00   \n",
       "25%    ... -2.283949e-01 -5.423504e-01 -1.618463e-01 -3.545861e-01   \n",
       "50%    ... -2.945017e-02  6.781943e-03 -1.119293e-02  4.097606e-02   \n",
       "75%    ...  1.863772e-01  5.285536e-01  1.476421e-01  4.395266e-01   \n",
       "max    ...  2.720284e+01  1.050309e+01  2.252841e+01  4.584549e+00   \n",
       "\n",
       "                V25           V26           V27           V28         Amount  \\\n",
       "count  2.848070e+05  2.848070e+05  2.848070e+05  2.848070e+05  284807.000000   \n",
       "mean   5.340915e-16  1.683437e-15 -3.660091e-16 -1.227390e-16      88.349619   \n",
       "std    5.212781e-01  4.822270e-01  4.036325e-01  3.300833e-01     250.120109   \n",
       "min   -1.029540e+01 -2.604551e+00 -2.256568e+01 -1.543008e+01       0.000000   \n",
       "25%   -3.171451e-01 -3.269839e-01 -7.083953e-02 -5.295979e-02       5.600000   \n",
       "50%    1.659350e-02 -5.213911e-02  1.342146e-03  1.124383e-02      22.000000   \n",
       "75%    3.507156e-01  2.409522e-01  9.104512e-02  7.827995e-02      77.165000   \n",
       "max    7.519589e+00  3.517346e+00  3.161220e+01  3.384781e+01   25691.160000   \n",
       "\n",
       "               Class  \n",
       "count  284807.000000  \n",
       "mean        0.001727  \n",
       "std         0.041527  \n",
       "min         0.000000  \n",
       "25%         0.000000  \n",
       "50%         0.000000  \n",
       "75%         0.000000  \n",
       "max         1.000000  \n",
       "\n",
       "[8 rows x 31 columns]"
      ]
     },
     "execution_count": 27,
     "metadata": {},
     "output_type": "execute_result"
    }
   ],
   "source": [
    "df.describe()"
   ]
  },
  {
   "cell_type": "markdown",
   "metadata": {},
   "source": [
    "6. Data Exploration (identifying nan values, feature scaling, Handling imbalance of the data)"
   ]
  },
  {
   "cell_type": "code",
   "execution_count": 28,
   "metadata": {},
   "outputs": [
    {
     "name": "stdout",
     "output_type": "stream",
     "text": [
      "Time      0\n",
      "V1        0\n",
      "V2        0\n",
      "V3        0\n",
      "V4        0\n",
      "V5        0\n",
      "V6        0\n",
      "V7        0\n",
      "V8        0\n",
      "V9        0\n",
      "V10       0\n",
      "V11       0\n",
      "V12       0\n",
      "V13       0\n",
      "V14       0\n",
      "V15       0\n",
      "V16       0\n",
      "V17       0\n",
      "V18       0\n",
      "V19       0\n",
      "V20       0\n",
      "V21       0\n",
      "V22       0\n",
      "V23       0\n",
      "V24       0\n",
      "V25       0\n",
      "V26       0\n",
      "V27       0\n",
      "V28       0\n",
      "Amount    0\n",
      "Class     0\n",
      "dtype: int64\n"
     ]
    }
   ],
   "source": [
    "# Check for missing values\n",
    "print(df.isnull().sum())"
   ]
  },
  {
   "cell_type": "code",
   "execution_count": 29,
   "metadata": {},
   "outputs": [
    {
     "name": "stdout",
     "output_type": "stream",
     "text": [
      "Class\n",
      "0    284315\n",
      "1       492\n",
      "Name: count, dtype: int64\n"
     ]
    }
   ],
   "source": [
    "# Class distribution\n",
    "print(df['Class'].value_counts())"
   ]
  },
  {
   "cell_type": "code",
   "execution_count": 30,
   "metadata": {},
   "outputs": [
    {
     "data": {
      "image/png": "[encoded data removed]",
      "text/plain": [
       "<Figure size 640x480 with 1 Axes>"
      ]
     },
     "metadata": {},
     "output_type": "display_data"
    }
   ],
   "source": [
    "df[\"Class\"].value_counts().plot(kind = \"bar\")\n",
    "plt.show()"
   ]
  },
  {
   "cell_type": "markdown",
   "metadata": {},
   "source": [
    "From above visualization we can see the high imbalance of the data in target class."
   ]
  },
  {
   "cell_type": "markdown",
   "metadata": {},
   "source": [
    "Handling Data Imbalance\n",
    "The dataset is highly imbalanced, with a very small proportion of fraudulent transactions. This imbalance can lead to a model that overwhelmingly predicts the majority class (non-fraudulent transactions), resulting in poor performance in detecting fraud, which is the more critical objective.\n",
    "\n",
    "To address this, several techniques can be used:\n",
    "\n",
    "Under-sampling: Reducing the number of examples from the majority class to match the minority class, as demonstrated in the preprocessing step. This can improve balance but at the cost of losing information.\n",
    "\n",
    "Over-sampling: Increasing the number of examples in the minority class by replicating them or using techniques like SMOTE (Synthetic Minority Over-sampling Technique) to create synthetic examples. This approach helps in balancing the classes without losing information but can increase the risk of overfitting to the minority class.\n",
    "\n",
    "Adjusting Class Weights: Another approach is to use the class_weight parameter in models like SVC from scikit-learn. This method gives higher importance to the minority class during training, helping the model to pay more attention to correctly classifying instances of the minority class."
   ]
  },
  {
   "cell_type": "code",
   "execution_count": 31,
   "metadata": {},
   "outputs": [],
   "source": [
    "# Scale 'Time' and 'Amount'\n",
    "scaler = StandardScaler()\n",
    "df['scaled_amount'] = scaler.fit_transform(df[['Amount']])\n",
    "df['scaled_time'] = scaler.fit_transform(df[['Time']])\n",
    "df.drop(['Time', 'Amount'], axis=1, inplace=True)"
   ]
  },
  {
   "cell_type": "code",
   "execution_count": 32,
   "metadata": {},
   "outputs": [
    {
     "data": {
      "image/png": "[encoded data removed]",
      "text/plain": [
       "<Figure size 2000x1800 with 2 Axes>"
      ]
     },
     "metadata": {},
     "output_type": "display_data"
    }
   ],
   "source": [
    "# Correlation matrix\n",
    "corr_matrix = df.corr()\n",
    "\n",
    "# Increase figure size\n",
    "plt.figure(figsize=(20, 18))\n",
    "\n",
    "# Rotate labels and set font size\n",
    "sns.set(font_scale=0.5)\n",
    "ax = sns.heatmap(corr_matrix, annot=True, fmt=\".1f\", cmap='viridis', square=True,\n",
    "                 linewidths=.5, cbar_kws={\"shrink\": .5})\n",
    "\n",
    "# Rotate x and y axis labels\n",
    "plt.xticks(rotation=90)\n",
    "plt.yticks(rotation=0)\n",
    "\n",
    "# Title\n",
    "plt.title('Correlation Matrix Heatmap')\n",
    "\n",
    "# Display the heatmap\n",
    "plt.show()\n"
   ]
  },
  {
   "cell_type": "markdown",
   "metadata": {},
   "source": [
    "## Data Imbalancing Techniques ##\n",
    "Many machine learning algorithms offer the \"class_weight\" parameter to adjust the cost of errors in different classes, which can mitigate imbalance.\n",
    "However, today we will discuss oversampling and undersampling methods, which often yield more effective results.\"\n",
    "\n",
    "1. Oversampling and Techniques:\n",
    "Oversampling offers a technique for rebalancing classes prior to initiating model training. By duplicating minority class data points, oversampling equalizes the distribution and prevents algorithms from neglecting important yet infrequent classes.\n",
    "\n",
    "Random Oversampling: \"Random Oversampling involves supplementing the training data with multiple copies of some of the minority classes. Oversampling can be done more than once (2x, 3x, 5x, 10x, etc.) This is one of the earliest proposed methods, that is also proven to be robust.\"\n",
    "\n",
    "SMOTE(Synthetic Minority Oversampling Technique): \"SMOTE works by selecting examples that are close in the feature space, drawing a line between the examples in the feature space and drawing a new sample at a point along that line. Specifically, a random example from the minority class is first chosen. Then k of the nearest neighbors for that example are found (typically k=5). A randomly selected neighbor is chosen and a synthetic example is created at a randomly selected point between the two examples in feature space.\"\n",
    "\n",
    "Borderline-SMOTE: \"Borderline-SMOTE is a variation of the SMOTE (Synthetic Minority Over-sampling Technique) method, which creates synthetic examples among minority class samples but targets only specific borderline regions. This method limits the creation of synthetic examples by considering regions where most minority class examples are located. Borderline-SMOTE identifies regions where some minority class examples are close to the border and generates synthetic examples in these regions. This focuses on areas where the minority class requires more examples, helping to reduce the imbalance in the dataset. This technique can reduce the risk of overfitting as it focuses on creating synthetic versions of only those examples close to the borderline, rather than replicating all samples in the region.\"\n",
    "\n",
    "SVM-SMOTE: \"SVM SMOTE is a type of SMOTE (Synthetic Minority Over-sampling Technique) algorithm used to increase the number of samples in the minority class. However, unlike standard SMOTE, SVM (Support Vector Machine) classifier is used to generate synthetic examples. SVM SMOTE focuses on generating synthetic examples close to the classification decision boundary while increasing the number of minority class samples. Therefore, synthetic examples are strategically placed near the classification decision boundary. This is designed to improve classification performance and enhance learning of the minority class.\"\n",
    "\n",
    "SMOTE-ENN: \"This method combines the SMOTE ability to generate synthetic examples for minority class and ENN ability to delete some observations from both classes that are identified as having different class between the observation’s class and its K-nearest neighbor majority class.\"\n",
    "\n",
    "ADASYN (Adaptive Synthetic Sampling): \"ADASYN takes a more adaptive approach. It focuses on the minority instances that are difficult to classify correctly, rather than oversampling all minority instances uniformly. It assigns a different weight to each minority instance based on its level of difficulty in classification.\"\n",
    "\n",
    "2. Undersampling and Techniques:\n",
    "Undersampling provides a method to rebalance classes before model training commences. By reducing the number of majority class data points, undersampling equalizes the distribution and prevents algorithms from being biased towards the majority class, thereby ensuring that important yet infrequent classes are not overlooked.\n",
    "\n",
    "Random Undersampling\n",
    "Description: Randomly eliminates instances from the majority class to match the minority class's size.\n",
    "Best For: Quick and dirty baseline models where computational efficiency is a priority, and the dataset is sufficiently large that losing some majority class data is acceptable.\n",
    "Consideration: There's a significant risk of losing important information, which could be detrimental in fraud detection where nuances in the data could indicate fraudulent behavior.\n",
    "\n",
    "Cluster Centroids\n",
    "Description: This method performs under-sampling by generating centroids based on clustering methods. The data will be previously grouped by similarity, in an effort to preserve information.\n",
    "Best For: Datasets where preserving the information content of the majority class can be achieved by understanding its cluster structures.\n",
    "Consideration: It can be more computationally intensive than random undersampling but less likely to lose crucial information.\n",
    "\n",
    "NearMiss\n",
    "Versions: There are three versions of NearMiss algorithms:\n",
    "NearMiss-1: Selects examples from the majority class closest to the minority class average.\n",
    "NearMiss-2: Selects examples from the majority class farthest from the minority class average.\n",
    "NearMiss-3: A more sophisticated approach that, for every minority class sample, keeps the N closest majority class samples.\n",
    "Best For: Situations where you aim to keep majority samples that are closest to the minority samples, thereby focusing on the regions of overlap between classes.\n",
    "Consideration: Can be effective but might lead to models biased towards the border cases, potentially ignoring broader trends within the legitimate transactions.\n",
    "\n",
    "Condensed Nearest Neighbor(CNN): \"The basic idea is to select a subset of examples from the original dataset, ensuring that these examples represent all classes adequately. CNN starts with a list of examples and then compares each example with the others. If an example belongs to the same class as a misclassified example, it is retained, and the process continues with the next example. This process continues to create a smaller subset of the dataset. As a result, CNN retains examples that adequately represent all classes while reducing the size of the dataset. This is particularly useful for addressing class imbalance issues, especially in large datasets.\"\n",
    "\n",
    "Edited Nearest Neighbors(ENN): \"The ENN algorithm starts by applying the k-nearest neighbors (KNN) algorithm to the dataset. It then examines each example in the dataset and compares its class label to the class labels of its k-nearest neighbors. If an example's class label does not match the majority class label among its k-nearest neighbors, it is considered misclassified and removed from the dataset. This process iterates until no further examples are removed. The goal of ENN is to eliminate noisy and borderline examples from the majority class, thereby improving the balance between the classes and the overall performance of the model.\""
   ]
  },
  {
   "cell_type": "markdown",
   "metadata": {},
   "source": [
    "### Oversampling Techniques ###"
   ]
  },
  {
   "cell_type": "code",
   "execution_count": 33,
   "metadata": {},
   "outputs": [
    {
     "data": {
      "text/plain": [
       "'\\n\\n# Random Over Sampler\\n\\nfrom imblearn.over_sampling import RandomOverSampler\\n\\nprint(\"Before oversampling: \",Counter(y_train))\\nRandomOverSampler = RandomOverSampler(random_state=42)\\nX_train,y_train= RandomOverSampler.fit_resample(X_train,y_train)\\nprint(\"After oversampling: \",Counter(y_train))\\n\\n\\n# Smote (Synthetic Minority Oversampling Technique)\\n\\nfrom imblearn.over_sampling import SMOTE\\n\\nprint(\"Before oversampling: \",Counter(y_train))\\nSMOTE = SMOTE(random_state=42)\\nX_train,y_train= SMOTE.fit_resample(X_train,y_train)\\nprint(\"After oversampling: \",Counter(y_train))\\n\\n# Border-line Smote\\n\\nfrom imblearn.over_sampling import BorderlineSMOTE\\n\\nprint(\"Before oversampling: \",Counter(y_train))\\nBorderlineSMOTE = BorderlineSMOTE(random_state=42)\\nX_train,y_train= BorderlineSMOTE.fit_resample(X_train,y_train)\\nprint(\"After oversampling: \",Counter(y_train))\\n\\n\\n# SVM Smote\\n\\nfrom imblearn.over_sampling import SVMSMOTE\\n\\nprint(\"Before oversampling: \",Counter(y_train))\\nSVMSMOTE = SVMSMOTE(random_state=42)\\nX_train,y_train= SVMSMOTE.fit_resample(X_train,y_train)\\nprint(\"After oversampling: \",Counter(y_train))\\n\\n\\n# Smoteenn\\n\\nfrom imblearn.combine import SMOTEENN\\n\\nprint(\"Before oversampling: \",Counter(y_train))\\nSMOTEENN = SMOTEENN(random_state=42)\\nX_train,y_train= SMOTEENN.fit_resample(X_train,y_train)\\nprint(\"After oversampling: \",Counter(y_train))\\n\\n# Adasyn\\n\\nfrom imblearn.over_sampling import ADASYN\\n\\nprint(\"Before oversampling: \",Counter(y_train))\\nADASYN = ADASYN(random_state=42)\\nX_train,y_train= ADASYN.fit_resample(X_train,y_train)\\nprint(\"After oversampling: \",Counter(y_train))\\n\\n'"
      ]
     },
     "execution_count": 33,
     "metadata": {},
     "output_type": "execute_result"
    }
   ],
   "source": [
    "'''\n",
    "\n",
    "# Random Over Sampler\n",
    "\n",
    "from imblearn.over_sampling import RandomOverSampler\n",
    "\n",
    "print(\"Before oversampling: \",Counter(y_train))\n",
    "RandomOverSampler = RandomOverSampler(random_state=42)\n",
    "X_train,y_train= RandomOverSampler.fit_resample(X_train,y_train)\n",
    "print(\"After oversampling: \",Counter(y_train))\n",
    "\n",
    "\n",
    "# Smote (Synthetic Minority Oversampling Technique)\n",
    "\n",
    "from imblearn.over_sampling import SMOTE\n",
    "\n",
    "print(\"Before oversampling: \",Counter(y_train))\n",
    "SMOTE = SMOTE(random_state=42)\n",
    "X_train,y_train= SMOTE.fit_resample(X_train,y_train)\n",
    "print(\"After oversampling: \",Counter(y_train))\n",
    "\n",
    "# Border-line Smote\n",
    "\n",
    "from imblearn.over_sampling import BorderlineSMOTE\n",
    "\n",
    "print(\"Before oversampling: \",Counter(y_train))\n",
    "BorderlineSMOTE = BorderlineSMOTE(random_state=42)\n",
    "X_train,y_train= BorderlineSMOTE.fit_resample(X_train,y_train)\n",
    "print(\"After oversampling: \",Counter(y_train))\n",
    "\n",
    "\n",
    "# SVM Smote\n",
    "\n",
    "from imblearn.over_sampling import SVMSMOTE\n",
    "\n",
    "print(\"Before oversampling: \",Counter(y_train))\n",
    "SVMSMOTE = SVMSMOTE(random_state=42)\n",
    "X_train,y_train= SVMSMOTE.fit_resample(X_train,y_train)\n",
    "print(\"After oversampling: \",Counter(y_train))\n",
    "\n",
    "\n",
    "# Smoteenn\n",
    "\n",
    "from imblearn.combine import SMOTEENN\n",
    "\n",
    "print(\"Before oversampling: \",Counter(y_train))\n",
    "SMOTEENN = SMOTEENN(random_state=42)\n",
    "X_train,y_train= SMOTEENN.fit_resample(X_train,y_train)\n",
    "print(\"After oversampling: \",Counter(y_train))\n",
    "\n",
    "# Adasyn\n",
    "\n",
    "from imblearn.over_sampling import ADASYN\n",
    "\n",
    "print(\"Before oversampling: \",Counter(y_train))\n",
    "ADASYN = ADASYN(random_state=42)\n",
    "X_train,y_train= ADASYN.fit_resample(X_train,y_train)\n",
    "print(\"After oversampling: \",Counter(y_train))\n",
    "\n",
    "'''"
   ]
  },
  {
   "cell_type": "markdown",
   "metadata": {},
   "source": [
    " ### Undersampling Techniques ###"
   ]
  },
  {
   "cell_type": "code",
   "execution_count": 34,
   "metadata": {},
   "outputs": [
    {
     "data": {
      "text/plain": [
       "'\\n\\n# Random Undersampling\\n\\nfrom imblearn.under_sampling import RandomUnderSampler\\n\\nprint(\"Before undersampling: \",Counter(y_train))\\nRandomUnderSampler = RandomUnderSampler(random_state=42)\\nX_train,y_train= RandomUnderSampler.fit_resample(X_train,y_train)\\nprint(\"After undersampling: \",Counter(y_train))\\n\\n\\n# NearMiss\\n\\nfrom imblearn.under_sampling import NearMiss\\n\\nprint(\"Before undersampling: \",Counter(y_train))\\nNearMiss = NearMiss() # NearMiss has versions\\nX_train,y_train= NearMiss.fit_resample(X_train,y_train)\\nprint(\"After undersampling: \",Counter(y_train))\\n\\n\\n# Condensed Nearest Neighbor(CNN)\\n\\nfrom imblearn.under_sampling import CondensedNearestNeighbour\\n\\nprint(\"Before undersampling: \",Counter(y_train))\\nCNN = CondensedNearestNeighbour(random_state=42)\\nX_train,y_train = CNN.fit_resample(X_train,y_train)\\nprint(\"After undersampling: \",Counter(y_train))\\n\\n\\n# Edited Nearest Neighbors(ENN)\\n\\nfrom imblearn.under_sampling import EditedNearestNeighbours\\n\\nprint(\"Before undersampling: \",Counter(y_train))\\nENN = EditedNearestNeighbours(random_state=42)\\nX_train,y_train = ENN.fit_resample(X_train,y_train)\\nprint(\"After undersampling: \",Counter(y_train))\\n\\n\\n# Tomek Links\\n\\nfrom imblearn.under_sampling import TomekLinks\\n\\nprint(\"Before undersampling: \",Counter(y_train))\\nTomekLinks = TomekLinks(random_state=42)\\nX_train,y_train = TomekLinks.fit_resample(X_train,y_train)\\nprint(\"After undersampling: \",Counter(y_train))\\n\\n\\n'"
      ]
     },
     "execution_count": 34,
     "metadata": {},
     "output_type": "execute_result"
    }
   ],
   "source": [
    "'''\n",
    "\n",
    "# Random Undersampling\n",
    "\n",
    "from imblearn.under_sampling import RandomUnderSampler\n",
    "\n",
    "print(\"Before undersampling: \",Counter(y_train))\n",
    "RandomUnderSampler = RandomUnderSampler(random_state=42)\n",
    "X_train,y_train= RandomUnderSampler.fit_resample(X_train,y_train)\n",
    "print(\"After undersampling: \",Counter(y_train))\n",
    "\n",
    "\n",
    "# NearMiss\n",
    "\n",
    "from imblearn.under_sampling import NearMiss\n",
    "\n",
    "print(\"Before undersampling: \",Counter(y_train))\n",
    "NearMiss = NearMiss() # NearMiss has versions\n",
    "X_train,y_train= NearMiss.fit_resample(X_train,y_train)\n",
    "print(\"After undersampling: \",Counter(y_train))\n",
    "\n",
    "\n",
    "# Condensed Nearest Neighbor(CNN)\n",
    "\n",
    "from imblearn.under_sampling import CondensedNearestNeighbour\n",
    "\n",
    "print(\"Before undersampling: \",Counter(y_train))\n",
    "CNN = CondensedNearestNeighbour(random_state=42)\n",
    "X_train,y_train = CNN.fit_resample(X_train,y_train)\n",
    "print(\"After undersampling: \",Counter(y_train))\n",
    "\n",
    "\n",
    "# Edited Nearest Neighbors(ENN)\n",
    "\n",
    "from imblearn.under_sampling import EditedNearestNeighbours\n",
    "\n",
    "print(\"Before undersampling: \",Counter(y_train))\n",
    "ENN = EditedNearestNeighbours(random_state=42)\n",
    "X_train,y_train = ENN.fit_resample(X_train,y_train)\n",
    "print(\"After undersampling: \",Counter(y_train))\n",
    "\n",
    "\n",
    "# Tomek Links\n",
    "\n",
    "from imblearn.under_sampling import TomekLinks\n",
    "\n",
    "print(\"Before undersampling: \",Counter(y_train))\n",
    "TomekLinks = TomekLinks(random_state=42)\n",
    "X_train,y_train = TomekLinks.fit_resample(X_train,y_train)\n",
    "print(\"After undersampling: \",Counter(y_train))\n",
    "\n",
    "\n",
    "'''"
   ]
  },
  {
   "cell_type": "markdown",
   "metadata": {},
   "source": [
    "7. Formulating Questions\n",
    "\n",
    "1.Can We Accurately Identify Fraudulent Transactions Based on Anonymized Features?\n",
    "Context: The dataset includes transactions made by credit cards with anonymized features obtained through PCA transformation, along with the 'Time' and 'Amount' of each transaction. Identifying transactions that are fraudulent (class 1) versus those that are legitimate (class 0) can significantly aid in minimizing financial losses and improving customer trust.\n",
    "\n",
    "2.How Effective Is the SVM Model in Detecting Fraudulent Transactions Across Different Transaction Amounts?\n",
    "Context: Fraudulent transactions might not follow a uniform pattern, especially in terms of transaction amounts. Some frauds might involve small amounts to evade detection, while others might be large, high-value transactions. Understanding the effectiveness of fraud detection across different transaction amounts could help in fine-tuning detection mechanisms.\n"
   ]
  },
  {
   "cell_type": "markdown",
   "metadata": {},
   "source": [
    "First I decided to Implement SVM-SMOTE for handling imbalance of the data which is oversampling technique, but The data is huge 284807 observations oversampling makes double the amount of data it nedds lot of computational power.\n",
    "So I decided to use undersampling technique Cluster centroids to address the imbalance of the data.\n",
    "\n",
    "Choosing the Best Technique for the Credit Card Fraud Detection Dataset\n",
    "\n",
    "Given the critical nature of fraud detection, where each fraudulent transaction potentially carries a high cost, the goal is to minimize information loss while addressing class imbalance. Cluster Centroids might offer a good balance between maintaining the majority class's integrity and reducing its size. It allows for a more nuanced undersampling that respects the underlying data distribution."
   ]
  },
  {
   "cell_type": "markdown",
   "metadata": {},
   "source": [
    "8. Splitting the data using linear kernel of SVM Classifier"
   ]
  },
  {
   "cell_type": "code",
   "execution_count": 35,
   "metadata": {},
   "outputs": [
    {
     "name": "stdout",
     "output_type": "stream",
     "text": [
      "Before undersampling:  Counter({0: 227451, 1: 394})\n"
     ]
    },
    {
     "name": "stderr",
     "output_type": "stream",
     "text": [
      "/Library/Frameworks/Python.framework/Versions/3.11/lib/python3.11/site-packages/sklearn/cluster/_kmeans.py:1416: FutureWarning: The default value of `n_init` will change from 10 to 'auto' in 1.4. Set the value of `n_init` explicitly to suppress the warning\n",
      "  super()._check_params_vs_input(X, default_n_init=10)\n"
     ]
    },
    {
     "name": "stdout",
     "output_type": "stream",
     "text": [
      "After undersampling:  Counter({0: 394, 1: 394})\n"
     ]
    }
   ],
   "source": [
    "from imblearn.under_sampling import ClusterCentroids\n",
    "from sklearn.model_selection import train_test_split\n",
    "from sklearn.preprocessing import StandardScaler\n",
    "from collections import Counter\n",
    "\n",
    "\n",
    "# Preparing the dataset\n",
    "X = df.drop(['Class'], axis=1)\n",
    "y = df['Class']\n",
    "\n",
    "# Splitting the dataset\n",
    "X_train, X_test, y_train, y_test = train_test_split(X, y, test_size=0.2, random_state=42)\n",
    "\n",
    "print(\"Before undersampling: \", Counter(y_train))\n",
    "\n",
    "# Applying Cluster Centroids for undersampling\n",
    "cc = ClusterCentroids(random_state=42)\n",
    "X_train_resampled, y_train_resampled = cc.fit_resample(X_train, y_train)\n",
    "\n",
    "print(\"After undersampling: \", Counter(y_train_resampled))\n"
   ]
  },
  {
   "cell_type": "code",
   "execution_count": 36,
   "metadata": {},
   "outputs": [
    {
     "data": {
      "text/plain": [
       "((227845, 30), (56962, 30))"
      ]
     },
     "execution_count": 36,
     "metadata": {},
     "output_type": "execute_result"
    }
   ],
   "source": [
    "X_train.shape, X_test.shape"
   ]
  },
  {
   "cell_type": "markdown",
   "metadata": {},
   "source": [
    "9. Fitting the SVM model"
   ]
  },
  {
   "cell_type": "code",
   "execution_count": 37,
   "metadata": {},
   "outputs": [
    {
     "data": {
      "text/html": [
       "<style>#sk-container-id-2 {color: black;}#sk-container-id-2 pre{padding: 0;}#sk-container-id-2 div.sk-toggleable {background-color: white;}#sk-container-id-2 label.sk-toggleable__label {cursor: pointer;display: block;width: 100%;margin-bottom: 0;padding: 0.3em;box-sizing: border-box;text-align: center;}#sk-container-id-2 label.sk-toggleable__label-arrow:before {content: \"▸\";float: left;margin-right: 0.25em;color: #696969;}#sk-container-id-2 label.sk-toggleable__label-arrow:hover:before {color: black;}#sk-container-id-2 div.sk-estimator:hover label.sk-toggleable__label-arrow:before {color: black;}#sk-container-id-2 div.sk-toggleable__content {max-height: 0;max-width: 0;overflow: hidden;text-align: left;background-color: #f0f8ff;}#sk-container-id-2 div.sk-toggleable__content pre {margin: 0.2em;color: black;border-radius: 0.25em;background-color: #f0f8ff;}#sk-container-id-2 input.sk-toggleable__control:checked~div.sk-toggleable__content {max-height: 200px;max-width: 100%;overflow: auto;}#sk-container-id-2 input.sk-toggleable__control:checked~label.sk-toggleable__label-arrow:before {content: \"▾\";}#sk-container-id-2 div.sk-estimator input.sk-toggleable__control:checked~label.sk-toggleable__label {background-color: #d4ebff;}#sk-container-id-2 div.sk-label input.sk-toggleable__control:checked~label.sk-toggleable__label {background-color: #d4ebff;}#sk-container-id-2 input.sk-hidden--visually {border: 0;clip: rect(1px 1px 1px 1px);clip: rect(1px, 1px, 1px, 1px);height: 1px;margin: -1px;overflow: hidden;padding: 0;position: absolute;width: 1px;}#sk-container-id-2 div.sk-estimator {font-family: monospace;background-color: #f0f8ff;border: 1px dotted black;border-radius: 0.25em;box-sizing: border-box;margin-bottom: 0.5em;}#sk-container-id-2 div.sk-estimator:hover {background-color: #d4ebff;}#sk-container-id-2 div.sk-parallel-item::after {content: \"\";width: 100%;border-bottom: 1px solid gray;flex-grow: 1;}#sk-container-id-2 div.sk-label:hover label.sk-toggleable__label {background-color: #d4ebff;}#sk-container-id-2 div.sk-serial::before {content: \"\";position: absolute;border-left: 1px solid gray;box-sizing: border-box;top: 0;bottom: 0;left: 50%;z-index: 0;}#sk-container-id-2 div.sk-serial {display: flex;flex-direction: column;align-items: center;background-color: white;padding-right: 0.2em;padding-left: 0.2em;position: relative;}#sk-container-id-2 div.sk-item {position: relative;z-index: 1;}#sk-container-id-2 div.sk-parallel {display: flex;align-items: stretch;justify-content: center;background-color: white;position: relative;}#sk-container-id-2 div.sk-item::before, #sk-container-id-2 div.sk-parallel-item::before {content: \"\";position: absolute;border-left: 1px solid gray;box-sizing: border-box;top: 0;bottom: 0;left: 50%;z-index: -1;}#sk-container-id-2 div.sk-parallel-item {display: flex;flex-direction: column;z-index: 1;position: relative;background-color: white;}#sk-container-id-2 div.sk-parallel-item:first-child::after {align-self: flex-end;width: 50%;}#sk-container-id-2 div.sk-parallel-item:last-child::after {align-self: flex-start;width: 50%;}#sk-container-id-2 div.sk-parallel-item:only-child::after {width: 0;}#sk-container-id-2 div.sk-dashed-wrapped {border: 1px dashed gray;margin: 0 0.4em 0.5em 0.4em;box-sizing: border-box;padding-bottom: 0.4em;background-color: white;}#sk-container-id-2 div.sk-label label {font-family: monospace;font-weight: bold;display: inline-block;line-height: 1.2em;}#sk-container-id-2 div.sk-label-container {text-align: center;}#sk-container-id-2 div.sk-container {/* jupyter's `normalize.less` sets `[hidden] { display: none; }` but bootstrap.min.css set `[hidden] { display: none !important; }` so we also need the `!important` here to be able to override the default hidden behavior on the sphinx rendered scikit-learn.org. See: https://github.com/scikit-learn/scikit-learn/issues/21755 */display: inline-block !important;position: relative;}#sk-container-id-2 div.sk-text-repr-fallback {display: none;}</style><div id=\"sk-container-id-2\" class=\"sk-top-container\"><div class=\"sk-text-repr-fallback\"><pre>SVC()</pre><b>In a Jupyter environment, please rerun this cell to show the HTML representation or trust the notebook. <br />On GitHub, the HTML representation is unable to render, please try loading this page with nbviewer.org.</b></div><div class=\"sk-container\" hidden><div class=\"sk-item\"><div class=\"sk-estimator sk-toggleable\"><input class=\"sk-toggleable__control sk-hidden--visually\" id=\"sk-estimator-id-2\" type=\"checkbox\" checked><label for=\"sk-estimator-id-2\" class=\"sk-toggleable__label sk-toggleable__label-arrow\">SVC</label><div class=\"sk-toggleable__content\"><pre>SVC()</pre></div></div></div></div></div>"
      ],
      "text/plain": [
       "SVC()"
      ]
     },
     "execution_count": 37,
     "metadata": {},
     "output_type": "execute_result"
    }
   ],
   "source": [
    "from sklearn.svm import SVC\n",
    "from sklearn.metrics import classification_report, confusion_matrix, accuracy_score, roc_auc_score\n",
    "from sklearn.model_selection import cross_val_score\n",
    "\n",
    "# Training the SVM classifier\n",
    "svm_classifier = SVC()\n",
    "svm_classifier.fit(X_train_resampled, y_train_resampled)\n"
   ]
  },
  {
   "cell_type": "markdown",
   "metadata": {},
   "source": [
    "10. Choice of optimal Hyper plane\n",
    "\n",
    "In the context of the Credit Card Fraud Detection dataset we're working with, the choice of the optimal hyperplane—using SVM—plays a crucial role in accurately classifying transactions as either legitimate or fraudulent. This dataset, characterized by its high dimensionality due to the PCA-transformed features, and the significant class imbalance between fraudulent and legitimate transactions, presents specific challenges that influence how the optimal hyperplane is determined and its effectiveness.\n",
    "\n",
    "High Dimensionality\n",
    "The dataset consists of 28 features derived from a PCA transformation, along with 'Time' and 'Amount', making it a high-dimensional problem. SVM is particularly suited for such scenarios through the use of the kernel trick, which allows it to efficiently handle high-dimensional data. The optimal hyperplane in this transformed feature space is the one that can best separate the fraudulent transactions from the legitimate ones, even when they are closely intertwined in the original feature space.\n",
    "\n",
    "Balancing the Dataset\n",
    "\n",
    "Cluster Centroids undersampling balances the dataset by reducing the majority class (legitimate transactions) to match the minority class (fraudulent transactions). This balancing act changes the landscape in which the SVM seeks the optimal hyperplane. With a more balanced dataset, the hyperplane's focus shifts towards distinguishing between equally represented classes, potentially altering its position compared to when it's trained on an imbalanced dataset.\n",
    "\n",
    "Maximizing the Margin in a Balanced Context\n",
    "\n",
    "After applying Cluster Centroids, the optimal hyperplane is still the one that maximizes the margin between the classes. However, the balancing ensures that the decision-making process of the SVM gives equal consideration to both classes. This is crucial in a fraud detection context, where failing to detect fraud (false negatives) can be as critical, if not more, as incorrectly flagging legitimate transactions as fraudulent (false positives).\n",
    "\n",
    "Influence on Support Vectors\n",
    "\n",
    "With a balanced dataset, the support vectors (data points that are closest to the hyperplane and influence its position) will likely include a more representative sample of both fraudulent and legitimate transactions. This can lead to a more nuanced decision boundary that is better at capturing the characteristics of both classes.\n",
    "\n",
    "Considerations for the SVM Model\n",
    "\n",
    "Model Generalization: The use of Cluster Centroids for undersampling before training the SVM model can help in enhancing its generalization capabilities. By training on a dataset where fraudulent and legitimate transactions are equally represented, the model is less likely to be biased towards the majority class and can potentially achieve better performance on unseen data.\n",
    "Regularization and Hyperparameters: Tuning the SVM's regularization parameter (C) and selecting an appropriate kernel becomes even more pivotal. With a balanced dataset, the choice of C impacts how strictly the model fits to the training data, which in turn affects the margin size and the model's ability to generalize. Similarly, the kernel choice dictates how the data is transformed to facilitate the separation of classes by the hyperplane.\n",
    "\n",
    "Conclusion in the Context of Cluster Centroids and SVM\n",
    "The application of Cluster Centroids for balancing the Credit Card Fraud Detection dataset significantly influences the SVM model's training and the choice of the optimal hyperplane. This preprocessing step ensures that the SVM model treats both classes with equal importance, aiming for a hyperplane that effectively separates fraudulent from legitimate transactions with the maximum margin. The balanced nature of the dataset post-undersampling requires careful consideration of model regularization and kernel selection to ensure that the final SVM classifier is both accurate and robust against overfitting, ultimately leading to more effective fraud detection.\n",
    "\n"
   ]
  },
  {
   "cell_type": "code",
   "execution_count": 38,
   "metadata": {},
   "outputs": [
    {
     "data": {
      "text/plain": [
       "array([1, 0, 0, 0, 0])"
      ]
     },
     "execution_count": 38,
     "metadata": {},
     "output_type": "execute_result"
    }
   ],
   "source": [
    "# 11. Making predictions\n",
    "y_pred = svm_classifier.predict(X_test)\n",
    "y_pred[:5]"
   ]
  },
  {
   "cell_type": "code",
   "execution_count": 39,
   "metadata": {},
   "outputs": [
    {
     "data": {
      "text/plain": [
       "223361    0\n",
       "165061    0\n",
       "238186    0\n",
       "150562    0\n",
       "138452    0\n",
       "Name: Class, dtype: int64"
      ]
     },
     "execution_count": 39,
     "metadata": {},
     "output_type": "execute_result"
    }
   ],
   "source": [
    "y_train[:5]"
   ]
  },
  {
   "cell_type": "code",
   "execution_count": 40,
   "metadata": {},
   "outputs": [
    {
     "data": {
      "text/plain": [
       "0.9213197969543148"
      ]
     },
     "execution_count": 40,
     "metadata": {},
     "output_type": "execute_result"
    }
   ],
   "source": [
    "svm_classifier.score(X_train_resampled, y_train_resampled)"
   ]
  },
  {
   "cell_type": "code",
   "execution_count": 41,
   "metadata": {},
   "outputs": [
    {
     "data": {
      "text/plain": [
       "0.993153330290369"
      ]
     },
     "execution_count": 41,
     "metadata": {},
     "output_type": "execute_result"
    }
   ],
   "source": [
    "svm_classifier.score(X_test, y_test)"
   ]
  },
  {
   "cell_type": "markdown",
   "metadata": {},
   "source": [
    "13. Cross Validation"
   ]
  },
  {
   "cell_type": "code",
   "execution_count": 42,
   "metadata": {},
   "outputs": [
    {
     "name": "stdout",
     "output_type": "stream",
     "text": [
      "Confusion Matrix:\n",
      "[[56485   379]\n",
      " [   11    87]]\n",
      "\n",
      "Classification Report:\n",
      "              precision    recall  f1-score   support\n",
      "\n",
      "           0       1.00      0.99      1.00     56864\n",
      "           1       0.19      0.89      0.31        98\n",
      "\n",
      "    accuracy                           0.99     56962\n",
      "   macro avg       0.59      0.94      0.65     56962\n",
      "weighted avg       1.00      0.99      1.00     56962\n",
      "\n",
      "Accuracy Score: 0.993153330290369\n",
      "ROC-AUC Score: 0.9405450383586187\n"
     ]
    }
   ],
   "source": [
    "# Evaluating the model\n",
    "print(\"Confusion Matrix:\")\n",
    "print(confusion_matrix(y_test, y_pred))\n",
    "\n",
    "print(\"\\nClassification Report:\")\n",
    "print(classification_report(y_test, y_pred))\n",
    "\n",
    "print(\"Accuracy Score:\", accuracy_score(y_test, y_pred))\n",
    "print(\"ROC-AUC Score:\", roc_auc_score(y_test, y_pred))"
   ]
  },
  {
   "cell_type": "markdown",
   "metadata": {},
   "source": [
    "Confusion Matrix Analysis\n",
    "True Positives (TP = 87): The model correctly predicted 87 fraudulent transactions.\n",
    "True Negatives (TN = 56485): The model correctly identified 56485 legitimate transactions.\n",
    "False Positives (FP = 379): The model incorrectly labeled 379 legitimate transactions as fraudulent. This represents a Type I error.\n",
    "False Negatives (FN = 11): The model missed 11 fraudulent transactions, marking them as legitimate. This represents a Type II error.\n",
    "\n",
    "Classification Report Insights\n",
    "Precision for Class 1 (0.19): Out of all transactions predicted as fraud, only 19% were actually fraud. This low precision indicates a high number of false positives for fraud detection.\n",
    "Recall for Class 1 (0.89): The model successfully identified 89% of all actual fraudulent transactions. This high recall rate is crucial for fraud detection systems, indicating the model's effectiveness in catching fraud.\n",
    "F1-Score for Class 1 (0.31): The F1-score is a harmonic mean of precision and recall. A score of 0.31 for fraud detection, although low, reflects the trade-off between precision and recall. Given the context of fraud detection, a higher emphasis is placed on recall.\n",
    "Accuracy Score\n",
    "The overall accuracy of 99.3% indicates that a large portion of the predictions made by the model are correct. However, given the imbalance in the dataset, accuracy is not the most reliable metric.\n",
    "\n",
    "ROC-AUC Score\n",
    "An ROC-AUC score of 0.940 is impressive and suggests that the model has a strong ability to distinguish between fraudulent and non-fraudulent transactions. It indicates good model performance across various threshold settings.\n",
    "Interpretation in the Context of Fraud Detection\n",
    "The high recall for fraudulent transactions is particularly important in the context of fraud detection. It implies that the model is capable of identifying the majority of actual fraud cases, which is critical for minimizing financial losses.\n",
    "The low precision for fraudulent transactions, however, indicates that while the model is good at catching fraud, it does so at the expense of falsely labeling many legitimate transactions as fraudulent. This could potentially lead to customer dissatisfaction due to false alarms.\n",
    "The high number of false positives could be a concern for practical applications, requiring manual review of flagged transactions, which could be resource-intensive.\n",
    "\n",
    "Further analysis for Improvement\n",
    "Feature Engineering: More informative features, possibly engineered from the existing ones, could help improve model precision without significantly sacrificing recall.\n",
    "Model Tuning: Adjusting the decision threshold of the SVM model or tuning other hyperparameters might help balance precision and recall more effectively.\n",
    "Alternative Models: Experimenting with different models or ensemble methods could yield better performance. For instance, ensemble methods like Random Forest or Gradient Boosting might improve precision while maintaining high recall.\n",
    "Cost-sensitive Learning: Incorporating the cost of misclassifications (e.g., the financial loss associated with fraud versus the operational cost of false positives) directly into the model training process could help optimize for the most economically viable outcome.\n"
   ]
  },
  {
   "cell_type": "markdown",
   "metadata": {},
   "source": [
    "12. Interpreting the results in the context of the questions asked.\n",
    "\n",
    "1.Can We Accurately Identify Fraudulent Transactions Based on Anonymized Features?\n",
    "Analysis:\n",
    "\n",
    "High Recall for Fraudulent Transactions: The recall for class 1 (fraudulent transactions) is 0.92, indicating that the SVM model is highly effective in identifying fraudulent transactions. This high recall suggests that the model successfully captures the patterns and anomalies associated with fraud, even with anonymized features.\n",
    "Low Precision for Fraudulent Transactions: The precision for class 1 is notably low at 0.06, implying that while the model is adept at catching fraud, it also misclassifies a significant number of legitimate transactions as fraudulent. This could lead to operational inefficiencies, as each flagged transaction might require manual review.\n",
    "Overall Accuracy: The model achieves an overall accuracy of 97.4%, which is impressive. However, given the class imbalance, accuracy is not the most informative metric. The high number of false positives (1457 out of 56962) affects the precision and indicates that accuracy alone might overestimate the model's performance in practical scenarios.\n",
    "\n",
    "Conclusion:\n",
    "The SVM model demonstrates strong potential in identifying fraudulent transactions based on anonymized features. The high recall rate is particularly valuable in fraud detection contexts, where missing a fraudulent transaction can have significant repercussions. However, the low precision underscores the need for further model tuning or exploring additional features that might reduce false positives without substantially affecting recall.\n",
    "\n",
    "2.How Effective Is the SVM Model in Detecting Fraudulent Transactions Across Different Transaction Amounts?\n",
    "Analysis:\n",
    "\n",
    "The provided metrics don't directly answer this question since they aggregate performance across all transactions. However, the model's ability to detect fraud with high recall (0.92) suggests it can effectively identify fraud across the dataset.\n",
    "The low precision and the notable number of false positives might indicate variability in the model's effectiveness across different transaction amounts. Transactions of varying amounts may exhibit different patterns of fraudulent behavior, and the model's current configuration might not optimally capture these nuances, leading to a high false-positive rate.\n",
    "\n",
    "Conclusion:\n",
    "While the current evaluation suggests that the SVM model is generally effective in detecting fraudulent transactions, assessing its performance across different transaction amounts requires a more segmented approach. The high recall indicates that the model has a good baseline for detecting fraud, but the precision and false-positive rate suggest there's room for improvement, particularly for tailoring the model to effectively handle the variability associated with transaction amounts."
   ]
  },
  {
   "cell_type": "markdown",
   "metadata": {},
   "source": [
    "## Reason behind using decision score instead of probability ##\n",
    "When working with Support Vector Machines (SVM) in scikit-learn, the decision function is used instead of predicted probabilities for certain evaluations like ROC and Precision-Recall curves because the standard SVM algorithm does not naturally provide probability estimates. Instead, SVMs make their predictions based on the distance of the data points from the decision boundary (hyperplane).Here are the reasons why decision scores are used:\n",
    "\n",
    "1. Nature of SVM Output:\n",
    "The SVM model outputs a decision score that represents the distance between the test instance and the decision boundary. A positive score indicates one class, and a negative score indicates the other.\n",
    "\n",
    "2. Probabilities Require Calibration:\n",
    "To convert decision scores into probabilities, an additional step called calibration (e.g., Platt scaling or isotonic regression) is required. This involves fitting a separate model (like logistic regression) to the decision scores to map them to probabilities, which can be computationally expensive and might not improve the model's performance.\n",
    "\n",
    "3. Direct Relation with Classification Decision:\n",
    "The decision function provides a direct way to evaluate how definitive the classification decision is. Larger absolute values of the decision score indicate a more confident classification, which can be a more straightforward measure of the model's certainty than the calibrated probabilities.\n",
    "\n",
    "4. Evaluation Metrics:\n",
    "Many evaluation metrics, like the ROC curve, only need scores that can rank instances correctly rather than true probabilities. Since the decision function preserves the ranking order of the data points, it's sufficient for such evaluations.\n",
    "\n",
    "5. Efficiency:\n",
    "Using the decision function avoids the extra step of converting decision scores into probabilities, making it more efficient, especially when the probabilities are not explicitly required for further analysis or decision-making processes.\n",
    "\n",
    "6. Non-probabilistic Nature of SVM:\n",
    "Traditional SVM is not probabilistic in nature. It's designed to classify instances by finding the best separating hyperplane. The distance from the hyperplane (decision score) naturally fits into this framework, whereas probabilities do not.\n",
    "\n"
   ]
  },
  {
   "cell_type": "code",
   "execution_count": 43,
   "metadata": {},
   "outputs": [
    {
     "data": {
      "image/png": "[encoded data removed]",
      "text/plain": [
       "<Figure size 800x600 with 1 Axes>"
      ]
     },
     "metadata": {},
     "output_type": "display_data"
    }
   ],
   "source": [
    "from sklearn.metrics import roc_curve, auc\n",
    "import matplotlib.pyplot as plt\n",
    "\n",
    "# Predict probabilities for the test data.\n",
    "# For binary classification, SVC with `probability=False` does not provide a `.predict_proba()` method by default\n",
    "# So, we use `decision_function` to generate the ROC curve, which is also valid\n",
    "y_scores = svm_classifier.decision_function(X_test)\n",
    "\n",
    "# Compute ROC curve and ROC area\n",
    "fpr, tpr, _ = roc_curve(y_test, y_scores)\n",
    "roc_auc = auc(fpr, tpr)\n",
    "\n",
    "# Plotting the ROC curve\n",
    "plt.figure(figsize=(8, 6))\n",
    "plt.plot(fpr, tpr, color='darkorange', lw=2, label='ROC curve (area = %0.2f)' % roc_auc)\n",
    "plt.plot([0, 1], [0, 1], color='navy', lw=2, linestyle='--')\n",
    "plt.xlim([0.0, 1.0])\n",
    "plt.ylim([0.0, 1.05])\n",
    "plt.xlabel('False Positive Rate')\n",
    "plt.ylabel('True Positive Rate')\n",
    "plt.title('Receiver Operating Characteristic (ROC)')\n",
    "plt.legend(loc=\"lower right\")\n",
    "plt.show()"
   ]
  },
  {
   "cell_type": "code",
   "execution_count": 44,
   "metadata": {},
   "outputs": [
    {
     "data": {
      "image/png": "[encoded data removed]",
      "text/plain": [
       "<Figure size 800x600 with 1 Axes>"
      ]
     },
     "metadata": {},
     "output_type": "display_data"
    }
   ],
   "source": [
    "from sklearn.metrics import precision_recall_curve\n",
    "from sklearn.metrics import average_precision_score\n",
    "\n",
    "precision, recall, _ = precision_recall_curve(y_test, y_scores)\n",
    "average_precision = average_precision_score(y_test, y_scores)\n",
    "\n",
    "plt.figure(figsize=(8, 6))\n",
    "plt.step(recall, precision, where='post', color='b', alpha=0.2, label='Precision-Recall curve')\n",
    "plt.fill_between(recall, precision, alpha=0.2, color='b', step='post')\n",
    "plt.xlabel('Recall')\n",
    "plt.ylabel('Precision')\n",
    "plt.ylim([0.0, 1.05])\n",
    "plt.xlim([0.0, 1.0])\n",
    "plt.title(f'2-class Precision-Recall curve: AP={average_precision:.2f}')\n",
    "plt.show()"
   ]
  },
  {
   "cell_type": "markdown",
   "metadata": {},
   "source": [
    "Interpretation of the PR Curve:\n",
    "Average Precision (AP) Score of 0.69: The AP score summarizes the precision-recall curve as the weighted mean of precisions achieved at each threshold, with the increase in recall from the previous threshold used as the weight. An AP of 0.69 indicates that the classifier has a reasonably good measure of separability, showing a good balance between precision and recall throughout the range of possible thresholds.\n",
    "Curve Shape and Model Performance: Initially, we see high precision, which indicates that when the model declares transactions as fraudulent, it is correct most of the time. However, as recall increases (i.e., as the model tries to catch more of the actual fraud), precision starts to decline, showing the trade-off between catching more fraud and making more false alarms.\n",
    "High Recall Region: The model starts with a high recall with only a slight drop in precision, which is desirable in a fraud detection context where failing to detect fraud can be costly.\n",
    "Decline in Precision: As the recall approaches 1, there is a steep drop in precision. This suggests that in trying to capture all fraudulent transactions, the model starts to flag many legitimate transactions as fraudulent, leading to a high false positive rate."
   ]
  },
  {
   "cell_type": "code",
   "execution_count": 45,
   "metadata": {},
   "outputs": [
    {
     "name": "stdout",
     "output_type": "stream",
     "text": [
      "\n",
      "5-fold Cross Validation Accuracy: 0.92 (+/- 0.05)\n"
     ]
    },
    {
     "data": {
      "text/plain": [
       "(None, array([0.93670886, 0.87341772, 0.90506329, 0.93630573, 0.93630573]))"
      ]
     },
     "execution_count": 45,
     "metadata": {},
     "output_type": "execute_result"
    }
   ],
   "source": [
    "# Cross-validation\n",
    "cv_scores = cross_val_score(svm_classifier, X_train_resampled, y_train_resampled, cv=5, scoring='accuracy')\n",
    "print(\"\\n5-fold Cross Validation Accuracy: %0.2f (+/- %0.2f)\" % (cv_scores.mean(), cv_scores.std() * 2)), cv_scores"
   ]
  },
  {
   "cell_type": "markdown",
   "metadata": {},
   "source": [
    "Cross-Validation Accuracy: 0.92 (+/- 0.05)\n",
    "Mean Accuracy (0.92): The average accuracy across the 5 folds is 92%, which is quite high. This indicates that, on average, the model correctly predicts whether a transaction is fraudulent or legitimate 92% of the time across different subsets of the data. This level of accuracy suggests that the SVM model is effective at distinguishing between the two classes for the majority of the dataset.\n",
    "\n",
    "Standard Deviation (0.05): The standard deviation of the accuracy scores across the folds is 0.04 (or 5%). This measure indicates the variability of the model's accuracy from one fold to another. A lower standard deviation would suggest that the model's performance is consistent across different subsets of the data. In this case, a 5% deviation is relatively low, implying that your model's performance is fairly stable and not highly sensitive to the specific data points included in each fold of the cross-validation process.\n",
    "\n",
    "Individual Fold Scores: The accuracy scores for the individual folds are [0.93670886, 0.87341772, 0.90506329, 0.93630573, 0.93630573]. The variation among these scores (from a low of 87.34% to a high of 93.67%) provides further insight into the model's consistency. While there is some fluctuation, all scores are relatively high, confirming the model's robustness. The variation might be due to the distribution of fraud and legitimate transactions in each fold, especially considering the class imbalance inherent in fraud detection datasets.\n"
   ]
  },
  {
   "cell_type": "code",
   "execution_count": 46,
   "metadata": {},
   "outputs": [
    {
     "name": "stdout",
     "output_type": "stream",
     "text": [
      "Fitting 5 folds for each of 60 candidates, totalling 300 fits\n",
      "[CV] END .........................C=0.1, gamma=1, kernel=rbf; total time=   0.0s\n",
      "[CV] END .........................C=0.1, gamma=1, kernel=rbf; total time=   0.0s\n",
      "[CV] END .........................C=0.1, gamma=1, kernel=rbf; total time=   0.0s\n",
      "[CV] END .........................C=0.1, gamma=1, kernel=rbf; total time=   0.0s\n",
      "[CV] END .........................C=0.1, gamma=1, kernel=rbf; total time=   0.0s\n",
      "[CV] END ........................C=0.1, gamma=1, kernel=poly; total time=   0.0s\n",
      "[CV] END ........................C=0.1, gamma=1, kernel=poly; total time=   0.0s\n",
      "[CV] END ........................C=0.1, gamma=1, kernel=poly; total time=   0.0s\n",
      "[CV] END ........................C=0.1, gamma=1, kernel=poly; total time=   0.0s\n",
      "[CV] END ........................C=0.1, gamma=1, kernel=poly; total time=   0.0s\n",
      "[CV] END .....................C=0.1, gamma=1, kernel=sigmoid; total time=   0.0s\n",
      "[CV] END .....................C=0.1, gamma=1, kernel=sigmoid; total time=   0.0s\n",
      "[CV] END .....................C=0.1, gamma=1, kernel=sigmoid; total time=   0.0s\n",
      "[CV] END .....................C=0.1, gamma=1, kernel=sigmoid; total time=   0.0s\n",
      "[CV] END .....................C=0.1, gamma=1, kernel=sigmoid; total time=   0.0s\n",
      "[CV] END .......................C=0.1, gamma=0.1, kernel=rbf; total time=   0.0s\n",
      "[CV] END .......................C=0.1, gamma=0.1, kernel=rbf; total time=   0.0s\n",
      "[CV] END .......................C=0.1, gamma=0.1, kernel=rbf; total time=   0.0s\n",
      "[CV] END .......................C=0.1, gamma=0.1, kernel=rbf; total time=   0.0s\n",
      "[CV] END .......................C=0.1, gamma=0.1, kernel=rbf; total time=   0.0s\n",
      "[CV] END ......................C=0.1, gamma=0.1, kernel=poly; total time=   0.0s\n",
      "[CV] END ......................C=0.1, gamma=0.1, kernel=poly; total time=   0.0s\n",
      "[CV] END ......................C=0.1, gamma=0.1, kernel=poly; total time=   0.0s\n",
      "[CV] END ......................C=0.1, gamma=0.1, kernel=poly; total time=   0.0s\n",
      "[CV] END ......................C=0.1, gamma=0.1, kernel=poly; total time=   0.0s\n",
      "[CV] END ...................C=0.1, gamma=0.1, kernel=sigmoid; total time=   0.0s\n",
      "[CV] END ...................C=0.1, gamma=0.1, kernel=sigmoid; total time=   0.0s\n",
      "[CV] END ...................C=0.1, gamma=0.1, kernel=sigmoid; total time=   0.0s\n",
      "[CV] END ...................C=0.1, gamma=0.1, kernel=sigmoid; total time=   0.0s\n",
      "[CV] END ...................C=0.1, gamma=0.1, kernel=sigmoid; total time=   0.0s\n",
      "[CV] END ......................C=0.1, gamma=0.01, kernel=rbf; total time=   0.0s\n",
      "[CV] END ......................C=0.1, gamma=0.01, kernel=rbf; total time=   0.0s\n",
      "[CV] END ......................C=0.1, gamma=0.01, kernel=rbf; total time=   0.0s\n",
      "[CV] END ......................C=0.1, gamma=0.01, kernel=rbf; total time=   0.0s\n",
      "[CV] END ......................C=0.1, gamma=0.01, kernel=rbf; total time=   0.0s\n",
      "[CV] END .....................C=0.1, gamma=0.01, kernel=poly; total time=   0.0s\n",
      "[CV] END .....................C=0.1, gamma=0.01, kernel=poly; total time=   0.0s\n",
      "[CV] END .....................C=0.1, gamma=0.01, kernel=poly; total time=   0.0s\n",
      "[CV] END .....................C=0.1, gamma=0.01, kernel=poly; total time=   0.0s\n",
      "[CV] END .....................C=0.1, gamma=0.01, kernel=poly; total time=   0.0s\n",
      "[CV] END ..................C=0.1, gamma=0.01, kernel=sigmoid; total time=   0.0s\n",
      "[CV] END ..................C=0.1, gamma=0.01, kernel=sigmoid; total time=   0.0s\n",
      "[CV] END ..................C=0.1, gamma=0.01, kernel=sigmoid; total time=   0.0s\n",
      "[CV] END ..................C=0.1, gamma=0.01, kernel=sigmoid; total time=   0.0s\n",
      "[CV] END ..................C=0.1, gamma=0.01, kernel=sigmoid; total time=   0.0s\n",
      "[CV] END .....................C=0.1, gamma=0.001, kernel=rbf; total time=   0.0s\n",
      "[CV] END .....................C=0.1, gamma=0.001, kernel=rbf; total time=   0.0s\n",
      "[CV] END .....................C=0.1, gamma=0.001, kernel=rbf; total time=   0.0s\n",
      "[CV] END .....................C=0.1, gamma=0.001, kernel=rbf; total time=   0.0s\n",
      "[CV] END .....................C=0.1, gamma=0.001, kernel=rbf; total time=   0.0s\n",
      "[CV] END ....................C=0.1, gamma=0.001, kernel=poly; total time=   0.0s\n",
      "[CV] END ....................C=0.1, gamma=0.001, kernel=poly; total time=   0.0s\n",
      "[CV] END ....................C=0.1, gamma=0.001, kernel=poly; total time=   0.0s\n",
      "[CV] END ....................C=0.1, gamma=0.001, kernel=poly; total time=   0.0s\n",
      "[CV] END ....................C=0.1, gamma=0.001, kernel=poly; total time=   0.0s\n",
      "[CV] END .................C=0.1, gamma=0.001, kernel=sigmoid; total time=   0.0s\n",
      "[CV] END .................C=0.1, gamma=0.001, kernel=sigmoid; total time=   0.0s\n",
      "[CV] END .................C=0.1, gamma=0.001, kernel=sigmoid; total time=   0.0s\n",
      "[CV] END .................C=0.1, gamma=0.001, kernel=sigmoid; total time=   0.0s\n",
      "[CV] END .................C=0.1, gamma=0.001, kernel=sigmoid; total time=   0.0s\n",
      "[CV] END ....................C=0.1, gamma=0.0001, kernel=rbf; total time=   0.0s\n",
      "[CV] END ....................C=0.1, gamma=0.0001, kernel=rbf; total time=   0.0s\n",
      "[CV] END ....................C=0.1, gamma=0.0001, kernel=rbf; total time=   0.0s\n",
      "[CV] END ....................C=0.1, gamma=0.0001, kernel=rbf; total time=   0.0s\n",
      "[CV] END ....................C=0.1, gamma=0.0001, kernel=rbf; total time=   0.0s\n",
      "[CV] END ...................C=0.1, gamma=0.0001, kernel=poly; total time=   0.0s\n",
      "[CV] END ...................C=0.1, gamma=0.0001, kernel=poly; total time=   0.0s\n",
      "[CV] END ...................C=0.1, gamma=0.0001, kernel=poly; total time=   0.0s\n",
      "[CV] END ...................C=0.1, gamma=0.0001, kernel=poly; total time=   0.0s\n",
      "[CV] END ...................C=0.1, gamma=0.0001, kernel=poly; total time=   0.0s\n",
      "[CV] END ................C=0.1, gamma=0.0001, kernel=sigmoid; total time=   0.0s\n",
      "[CV] END ................C=0.1, gamma=0.0001, kernel=sigmoid; total time=   0.0s\n",
      "[CV] END ................C=0.1, gamma=0.0001, kernel=sigmoid; total time=   0.0s\n",
      "[CV] END ................C=0.1, gamma=0.0001, kernel=sigmoid; total time=   0.0s\n",
      "[CV] END ................C=0.1, gamma=0.0001, kernel=sigmoid; total time=   0.0s\n",
      "[CV] END ...........................C=1, gamma=1, kernel=rbf; total time=   0.0s\n",
      "[CV] END ...........................C=1, gamma=1, kernel=rbf; total time=   0.0s\n",
      "[CV] END ...........................C=1, gamma=1, kernel=rbf; total time=   0.0s\n",
      "[CV] END ...........................C=1, gamma=1, kernel=rbf; total time=   0.0s\n",
      "[CV] END ...........................C=1, gamma=1, kernel=rbf; total time=   0.0s\n",
      "[CV] END ..........................C=1, gamma=1, kernel=poly; total time=   0.0s\n",
      "[CV] END ..........................C=1, gamma=1, kernel=poly; total time=   0.0s\n",
      "[CV] END ..........................C=1, gamma=1, kernel=poly; total time=   0.0s\n",
      "[CV] END ..........................C=1, gamma=1, kernel=poly; total time=   0.0s\n",
      "[CV] END ..........................C=1, gamma=1, kernel=poly; total time=   0.0s\n",
      "[CV] END .......................C=1, gamma=1, kernel=sigmoid; total time=   0.0s\n",
      "[CV] END .......................C=1, gamma=1, kernel=sigmoid; total time=   0.0s\n",
      "[CV] END .......................C=1, gamma=1, kernel=sigmoid; total time=   0.0s\n",
      "[CV] END .......................C=1, gamma=1, kernel=sigmoid; total time=   0.0s\n",
      "[CV] END .......................C=1, gamma=1, kernel=sigmoid; total time=   0.0s\n",
      "[CV] END .........................C=1, gamma=0.1, kernel=rbf; total time=   0.0s\n",
      "[CV] END .........................C=1, gamma=0.1, kernel=rbf; total time=   0.0s\n",
      "[CV] END .........................C=1, gamma=0.1, kernel=rbf; total time=   0.0s\n",
      "[CV] END .........................C=1, gamma=0.1, kernel=rbf; total time=   0.0s\n",
      "[CV] END .........................C=1, gamma=0.1, kernel=rbf; total time=   0.0s\n",
      "[CV] END ........................C=1, gamma=0.1, kernel=poly; total time=   0.0s\n",
      "[CV] END ........................C=1, gamma=0.1, kernel=poly; total time=   0.0s\n",
      "[CV] END ........................C=1, gamma=0.1, kernel=poly; total time=   0.0s\n",
      "[CV] END ........................C=1, gamma=0.1, kernel=poly; total time=   0.0s\n",
      "[CV] END ........................C=1, gamma=0.1, kernel=poly; total time=   0.0s\n",
      "[CV] END .....................C=1, gamma=0.1, kernel=sigmoid; total time=   0.0s\n",
      "[CV] END .....................C=1, gamma=0.1, kernel=sigmoid; total time=   0.0s\n",
      "[CV] END .....................C=1, gamma=0.1, kernel=sigmoid; total time=   0.0s\n",
      "[CV] END .....................C=1, gamma=0.1, kernel=sigmoid; total time=   0.0s\n",
      "[CV] END .....................C=1, gamma=0.1, kernel=sigmoid; total time=   0.0s\n",
      "[CV] END ........................C=1, gamma=0.01, kernel=rbf; total time=   0.0s\n",
      "[CV] END ........................C=1, gamma=0.01, kernel=rbf; total time=   0.0s\n",
      "[CV] END ........................C=1, gamma=0.01, kernel=rbf; total time=   0.0s\n",
      "[CV] END ........................C=1, gamma=0.01, kernel=rbf; total time=   0.0s\n",
      "[CV] END ........................C=1, gamma=0.01, kernel=rbf; total time=   0.0s\n",
      "[CV] END .......................C=1, gamma=0.01, kernel=poly; total time=   0.0s\n",
      "[CV] END .......................C=1, gamma=0.01, kernel=poly; total time=   0.0s\n",
      "[CV] END .......................C=1, gamma=0.01, kernel=poly; total time=   0.0s\n",
      "[CV] END .......................C=1, gamma=0.01, kernel=poly; total time=   0.0s\n",
      "[CV] END .......................C=1, gamma=0.01, kernel=poly; total time=   0.0s\n",
      "[CV] END ....................C=1, gamma=0.01, kernel=sigmoid; total time=   0.0s\n",
      "[CV] END ....................C=1, gamma=0.01, kernel=sigmoid; total time=   0.0s\n",
      "[CV] END ....................C=1, gamma=0.01, kernel=sigmoid; total time=   0.0s\n",
      "[CV] END ....................C=1, gamma=0.01, kernel=sigmoid; total time=   0.0s\n",
      "[CV] END ....................C=1, gamma=0.01, kernel=sigmoid; total time=   0.0s\n",
      "[CV] END .......................C=1, gamma=0.001, kernel=rbf; total time=   0.0s\n",
      "[CV] END .......................C=1, gamma=0.001, kernel=rbf; total time=   0.0s\n",
      "[CV] END .......................C=1, gamma=0.001, kernel=rbf; total time=   0.0s\n",
      "[CV] END .......................C=1, gamma=0.001, kernel=rbf; total time=   0.0s\n",
      "[CV] END .......................C=1, gamma=0.001, kernel=rbf; total time=   0.0s\n",
      "[CV] END ......................C=1, gamma=0.001, kernel=poly; total time=   0.0s\n",
      "[CV] END ......................C=1, gamma=0.001, kernel=poly; total time=   0.0s\n",
      "[CV] END ......................C=1, gamma=0.001, kernel=poly; total time=   0.0s\n",
      "[CV] END ......................C=1, gamma=0.001, kernel=poly; total time=   0.0s\n",
      "[CV] END ......................C=1, gamma=0.001, kernel=poly; total time=   0.0s\n",
      "[CV] END ...................C=1, gamma=0.001, kernel=sigmoid; total time=   0.0s\n",
      "[CV] END ...................C=1, gamma=0.001, kernel=sigmoid; total time=   0.0s\n",
      "[CV] END ...................C=1, gamma=0.001, kernel=sigmoid; total time=   0.0s\n",
      "[CV] END ...................C=1, gamma=0.001, kernel=sigmoid; total time=   0.0s\n",
      "[CV] END ...................C=1, gamma=0.001, kernel=sigmoid; total time=   0.0s\n",
      "[CV] END ......................C=1, gamma=0.0001, kernel=rbf; total time=   0.0s\n",
      "[CV] END ......................C=1, gamma=0.0001, kernel=rbf; total time=   0.0s\n",
      "[CV] END ......................C=1, gamma=0.0001, kernel=rbf; total time=   0.0s\n",
      "[CV] END ......................C=1, gamma=0.0001, kernel=rbf; total time=   0.0s\n",
      "[CV] END ......................C=1, gamma=0.0001, kernel=rbf; total time=   0.0s\n",
      "[CV] END .....................C=1, gamma=0.0001, kernel=poly; total time=   0.0s\n",
      "[CV] END .....................C=1, gamma=0.0001, kernel=poly; total time=   0.0s\n",
      "[CV] END .....................C=1, gamma=0.0001, kernel=poly; total time=   0.0s\n",
      "[CV] END .....................C=1, gamma=0.0001, kernel=poly; total time=   0.0s\n",
      "[CV] END .....................C=1, gamma=0.0001, kernel=poly; total time=   0.0s\n",
      "[CV] END ..................C=1, gamma=0.0001, kernel=sigmoid; total time=   0.0s\n",
      "[CV] END ..................C=1, gamma=0.0001, kernel=sigmoid; total time=   0.0s\n",
      "[CV] END ..................C=1, gamma=0.0001, kernel=sigmoid; total time=   0.0s\n",
      "[CV] END ..................C=1, gamma=0.0001, kernel=sigmoid; total time=   0.0s\n",
      "[CV] END ..................C=1, gamma=0.0001, kernel=sigmoid; total time=   0.0s\n",
      "[CV] END ..........................C=10, gamma=1, kernel=rbf; total time=   0.0s\n",
      "[CV] END ..........................C=10, gamma=1, kernel=rbf; total time=   0.0s\n",
      "[CV] END ..........................C=10, gamma=1, kernel=rbf; total time=   0.0s\n",
      "[CV] END ..........................C=10, gamma=1, kernel=rbf; total time=   0.0s\n",
      "[CV] END ..........................C=10, gamma=1, kernel=rbf; total time=   0.0s\n",
      "[CV] END .........................C=10, gamma=1, kernel=poly; total time=   0.0s\n",
      "[CV] END .........................C=10, gamma=1, kernel=poly; total time=   0.0s\n",
      "[CV] END .........................C=10, gamma=1, kernel=poly; total time=   0.0s\n",
      "[CV] END .........................C=10, gamma=1, kernel=poly; total time=   0.0s\n",
      "[CV] END .........................C=10, gamma=1, kernel=poly; total time=   0.0s\n",
      "[CV] END ......................C=10, gamma=1, kernel=sigmoid; total time=   0.0s\n",
      "[CV] END ......................C=10, gamma=1, kernel=sigmoid; total time=   0.0s\n",
      "[CV] END ......................C=10, gamma=1, kernel=sigmoid; total time=   0.0s\n",
      "[CV] END ......................C=10, gamma=1, kernel=sigmoid; total time=   0.0s\n",
      "[CV] END ......................C=10, gamma=1, kernel=sigmoid; total time=   0.0s\n",
      "[CV] END ........................C=10, gamma=0.1, kernel=rbf; total time=   0.0s\n",
      "[CV] END ........................C=10, gamma=0.1, kernel=rbf; total time=   0.0s\n",
      "[CV] END ........................C=10, gamma=0.1, kernel=rbf; total time=   0.0s\n",
      "[CV] END ........................C=10, gamma=0.1, kernel=rbf; total time=   0.0s\n",
      "[CV] END ........................C=10, gamma=0.1, kernel=rbf; total time=   0.0s\n",
      "[CV] END .......................C=10, gamma=0.1, kernel=poly; total time=   0.0s\n",
      "[CV] END .......................C=10, gamma=0.1, kernel=poly; total time=   0.0s\n",
      "[CV] END .......................C=10, gamma=0.1, kernel=poly; total time=   0.0s\n",
      "[CV] END .......................C=10, gamma=0.1, kernel=poly; total time=   0.0s\n",
      "[CV] END .......................C=10, gamma=0.1, kernel=poly; total time=   0.0s\n",
      "[CV] END ....................C=10, gamma=0.1, kernel=sigmoid; total time=   0.0s\n",
      "[CV] END ....................C=10, gamma=0.1, kernel=sigmoid; total time=   0.0s\n",
      "[CV] END ....................C=10, gamma=0.1, kernel=sigmoid; total time=   0.0s\n",
      "[CV] END ....................C=10, gamma=0.1, kernel=sigmoid; total time=   0.0s\n",
      "[CV] END ....................C=10, gamma=0.1, kernel=sigmoid; total time=   0.0s\n",
      "[CV] END .......................C=10, gamma=0.01, kernel=rbf; total time=   0.0s\n",
      "[CV] END .......................C=10, gamma=0.01, kernel=rbf; total time=   0.0s\n",
      "[CV] END .......................C=10, gamma=0.01, kernel=rbf; total time=   0.0s\n",
      "[CV] END .......................C=10, gamma=0.01, kernel=rbf; total time=   0.0s\n",
      "[CV] END .......................C=10, gamma=0.01, kernel=rbf; total time=   0.0s\n",
      "[CV] END ......................C=10, gamma=0.01, kernel=poly; total time=   0.0s\n",
      "[CV] END ......................C=10, gamma=0.01, kernel=poly; total time=   0.0s\n",
      "[CV] END ......................C=10, gamma=0.01, kernel=poly; total time=   0.0s\n",
      "[CV] END ......................C=10, gamma=0.01, kernel=poly; total time=   0.0s\n",
      "[CV] END ......................C=10, gamma=0.01, kernel=poly; total time=   0.0s\n",
      "[CV] END ...................C=10, gamma=0.01, kernel=sigmoid; total time=   0.0s\n",
      "[CV] END ...................C=10, gamma=0.01, kernel=sigmoid; total time=   0.0s\n",
      "[CV] END ...................C=10, gamma=0.01, kernel=sigmoid; total time=   0.0s\n",
      "[CV] END ...................C=10, gamma=0.01, kernel=sigmoid; total time=   0.0s\n",
      "[CV] END ...................C=10, gamma=0.01, kernel=sigmoid; total time=   0.0s\n",
      "[CV] END ......................C=10, gamma=0.001, kernel=rbf; total time=   0.0s\n",
      "[CV] END ......................C=10, gamma=0.001, kernel=rbf; total time=   0.0s\n",
      "[CV] END ......................C=10, gamma=0.001, kernel=rbf; total time=   0.0s\n",
      "[CV] END ......................C=10, gamma=0.001, kernel=rbf; total time=   0.0s\n",
      "[CV] END ......................C=10, gamma=0.001, kernel=rbf; total time=   0.0s\n",
      "[CV] END .....................C=10, gamma=0.001, kernel=poly; total time=   0.0s\n",
      "[CV] END .....................C=10, gamma=0.001, kernel=poly; total time=   0.0s\n",
      "[CV] END .....................C=10, gamma=0.001, kernel=poly; total time=   0.0s\n",
      "[CV] END .....................C=10, gamma=0.001, kernel=poly; total time=   0.0s\n",
      "[CV] END .....................C=10, gamma=0.001, kernel=poly; total time=   0.0s\n",
      "[CV] END ..................C=10, gamma=0.001, kernel=sigmoid; total time=   0.0s\n",
      "[CV] END ..................C=10, gamma=0.001, kernel=sigmoid; total time=   0.0s\n",
      "[CV] END ..................C=10, gamma=0.001, kernel=sigmoid; total time=   0.0s\n",
      "[CV] END ..................C=10, gamma=0.001, kernel=sigmoid; total time=   0.0s\n",
      "[CV] END ..................C=10, gamma=0.001, kernel=sigmoid; total time=   0.0s\n",
      "[CV] END .....................C=10, gamma=0.0001, kernel=rbf; total time=   0.0s\n",
      "[CV] END .....................C=10, gamma=0.0001, kernel=rbf; total time=   0.0s\n",
      "[CV] END .....................C=10, gamma=0.0001, kernel=rbf; total time=   0.0s\n",
      "[CV] END .....................C=10, gamma=0.0001, kernel=rbf; total time=   0.0s\n",
      "[CV] END .....................C=10, gamma=0.0001, kernel=rbf; total time=   0.0s\n",
      "[CV] END ....................C=10, gamma=0.0001, kernel=poly; total time=   0.0s\n",
      "[CV] END ....................C=10, gamma=0.0001, kernel=poly; total time=   0.0s\n",
      "[CV] END ....................C=10, gamma=0.0001, kernel=poly; total time=   0.0s\n",
      "[CV] END ....................C=10, gamma=0.0001, kernel=poly; total time=   0.0s\n",
      "[CV] END ....................C=10, gamma=0.0001, kernel=poly; total time=   0.0s\n",
      "[CV] END .................C=10, gamma=0.0001, kernel=sigmoid; total time=   0.0s\n",
      "[CV] END .................C=10, gamma=0.0001, kernel=sigmoid; total time=   0.0s\n",
      "[CV] END .................C=10, gamma=0.0001, kernel=sigmoid; total time=   0.0s\n",
      "[CV] END .................C=10, gamma=0.0001, kernel=sigmoid; total time=   0.0s\n",
      "[CV] END .................C=10, gamma=0.0001, kernel=sigmoid; total time=   0.0s\n",
      "[CV] END .........................C=100, gamma=1, kernel=rbf; total time=   0.0s\n",
      "[CV] END .........................C=100, gamma=1, kernel=rbf; total time=   0.0s\n",
      "[CV] END .........................C=100, gamma=1, kernel=rbf; total time=   0.0s\n",
      "[CV] END .........................C=100, gamma=1, kernel=rbf; total time=   0.0s\n",
      "[CV] END .........................C=100, gamma=1, kernel=rbf; total time=   0.0s\n",
      "[CV] END ........................C=100, gamma=1, kernel=poly; total time=   0.0s\n",
      "[CV] END ........................C=100, gamma=1, kernel=poly; total time=   0.0s\n",
      "[CV] END ........................C=100, gamma=1, kernel=poly; total time=   0.0s\n",
      "[CV] END ........................C=100, gamma=1, kernel=poly; total time=   0.0s\n",
      "[CV] END ........................C=100, gamma=1, kernel=poly; total time=   0.0s\n",
      "[CV] END .....................C=100, gamma=1, kernel=sigmoid; total time=   0.0s\n",
      "[CV] END .....................C=100, gamma=1, kernel=sigmoid; total time=   0.0s\n",
      "[CV] END .....................C=100, gamma=1, kernel=sigmoid; total time=   0.0s\n",
      "[CV] END .....................C=100, gamma=1, kernel=sigmoid; total time=   0.0s\n",
      "[CV] END .....................C=100, gamma=1, kernel=sigmoid; total time=   0.0s\n",
      "[CV] END .......................C=100, gamma=0.1, kernel=rbf; total time=   0.0s\n",
      "[CV] END .......................C=100, gamma=0.1, kernel=rbf; total time=   0.0s\n",
      "[CV] END .......................C=100, gamma=0.1, kernel=rbf; total time=   0.0s\n",
      "[CV] END .......................C=100, gamma=0.1, kernel=rbf; total time=   0.0s\n",
      "[CV] END .......................C=100, gamma=0.1, kernel=rbf; total time=   0.0s\n",
      "[CV] END ......................C=100, gamma=0.1, kernel=poly; total time=   0.0s\n",
      "[CV] END ......................C=100, gamma=0.1, kernel=poly; total time=   0.0s\n",
      "[CV] END ......................C=100, gamma=0.1, kernel=poly; total time=   0.0s\n",
      "[CV] END ......................C=100, gamma=0.1, kernel=poly; total time=   0.0s\n",
      "[CV] END ......................C=100, gamma=0.1, kernel=poly; total time=   0.0s\n",
      "[CV] END ...................C=100, gamma=0.1, kernel=sigmoid; total time=   0.0s\n",
      "[CV] END ...................C=100, gamma=0.1, kernel=sigmoid; total time=   0.0s\n",
      "[CV] END ...................C=100, gamma=0.1, kernel=sigmoid; total time=   0.0s\n",
      "[CV] END ...................C=100, gamma=0.1, kernel=sigmoid; total time=   0.0s\n",
      "[CV] END ...................C=100, gamma=0.1, kernel=sigmoid; total time=   0.0s\n",
      "[CV] END ......................C=100, gamma=0.01, kernel=rbf; total time=   0.0s\n",
      "[CV] END ......................C=100, gamma=0.01, kernel=rbf; total time=   0.0s\n",
      "[CV] END ......................C=100, gamma=0.01, kernel=rbf; total time=   0.0s\n",
      "[CV] END ......................C=100, gamma=0.01, kernel=rbf; total time=   0.0s\n",
      "[CV] END ......................C=100, gamma=0.01, kernel=rbf; total time=   0.0s\n",
      "[CV] END .....................C=100, gamma=0.01, kernel=poly; total time=   0.0s\n",
      "[CV] END .....................C=100, gamma=0.01, kernel=poly; total time=   0.0s\n",
      "[CV] END .....................C=100, gamma=0.01, kernel=poly; total time=   0.0s\n",
      "[CV] END .....................C=100, gamma=0.01, kernel=poly; total time=   0.0s\n",
      "[CV] END .....................C=100, gamma=0.01, kernel=poly; total time=   0.0s\n",
      "[CV] END ..................C=100, gamma=0.01, kernel=sigmoid; total time=   0.0s\n",
      "[CV] END ..................C=100, gamma=0.01, kernel=sigmoid; total time=   0.0s\n",
      "[CV] END ..................C=100, gamma=0.01, kernel=sigmoid; total time=   0.0s\n",
      "[CV] END ..................C=100, gamma=0.01, kernel=sigmoid; total time=   0.0s\n",
      "[CV] END ..................C=100, gamma=0.01, kernel=sigmoid; total time=   0.0s\n",
      "[CV] END .....................C=100, gamma=0.001, kernel=rbf; total time=   0.0s\n",
      "[CV] END .....................C=100, gamma=0.001, kernel=rbf; total time=   0.0s\n",
      "[CV] END .....................C=100, gamma=0.001, kernel=rbf; total time=   0.0s\n",
      "[CV] END .....................C=100, gamma=0.001, kernel=rbf; total time=   0.0s\n",
      "[CV] END .....................C=100, gamma=0.001, kernel=rbf; total time=   0.0s\n",
      "[CV] END ....................C=100, gamma=0.001, kernel=poly; total time=   0.0s\n",
      "[CV] END ....................C=100, gamma=0.001, kernel=poly; total time=   0.0s\n",
      "[CV] END ....................C=100, gamma=0.001, kernel=poly; total time=   0.0s\n",
      "[CV] END ....................C=100, gamma=0.001, kernel=poly; total time=   0.0s\n",
      "[CV] END ....................C=100, gamma=0.001, kernel=poly; total time=   0.0s\n",
      "[CV] END .................C=100, gamma=0.001, kernel=sigmoid; total time=   0.0s\n",
      "[CV] END .................C=100, gamma=0.001, kernel=sigmoid; total time=   0.0s\n",
      "[CV] END .................C=100, gamma=0.001, kernel=sigmoid; total time=   0.0s\n",
      "[CV] END .................C=100, gamma=0.001, kernel=sigmoid; total time=   0.0s\n",
      "[CV] END .................C=100, gamma=0.001, kernel=sigmoid; total time=   0.0s\n",
      "[CV] END ....................C=100, gamma=0.0001, kernel=rbf; total time=   0.0s\n",
      "[CV] END ....................C=100, gamma=0.0001, kernel=rbf; total time=   0.0s\n",
      "[CV] END ....................C=100, gamma=0.0001, kernel=rbf; total time=   0.0s\n",
      "[CV] END ....................C=100, gamma=0.0001, kernel=rbf; total time=   0.0s\n",
      "[CV] END ....................C=100, gamma=0.0001, kernel=rbf; total time=   0.0s\n",
      "[CV] END ...................C=100, gamma=0.0001, kernel=poly; total time=   0.0s\n",
      "[CV] END ...................C=100, gamma=0.0001, kernel=poly; total time=   0.0s\n",
      "[CV] END ...................C=100, gamma=0.0001, kernel=poly; total time=   0.0s\n",
      "[CV] END ...................C=100, gamma=0.0001, kernel=poly; total time=   0.0s\n",
      "[CV] END ...................C=100, gamma=0.0001, kernel=poly; total time=   0.0s\n",
      "[CV] END ................C=100, gamma=0.0001, kernel=sigmoid; total time=   0.0s\n",
      "[CV] END ................C=100, gamma=0.0001, kernel=sigmoid; total time=   0.0s\n",
      "[CV] END ................C=100, gamma=0.0001, kernel=sigmoid; total time=   0.0s\n",
      "[CV] END ................C=100, gamma=0.0001, kernel=sigmoid; total time=   0.0s\n",
      "[CV] END ................C=100, gamma=0.0001, kernel=sigmoid; total time=   0.0s\n",
      "Best parameters found:  {'C': 100, 'gamma': 0.0001, 'kernel': 'rbf'}\n",
      "Best score found:  0.979036434546798\n"
     ]
    }
   ],
   "source": [
    "# Hyper parameter tuning\n",
    "\n",
    "from sklearn.model_selection import GridSearchCV\n",
    "from sklearn.svm import SVC\n",
    "\n",
    "# Define the model and parameter grid as before\n",
    "param_grid = {\n",
    "    'C': [0.1, 1, 10, 100],  # Adjust as necessary\n",
    "    'gamma': [1, 0.1, 0.01, 0.001, 0.0001],  # For RBF kernel\n",
    "    'kernel': ['rbf','poly', 'sigmoid']  # Adjust based on kernels you want to try\n",
    "}\n",
    "\n",
    "svm = SVC(probability=False)  # probability=False is default, mentioned for clarity\n",
    "\n",
    "grid_search = GridSearchCV(svm, param_grid, refit=True, verbose=2, cv=5, scoring='average_precision')\n",
    "grid_search.fit(X_train_resampled, y_train_resampled)\n",
    "\n",
    "print(\"Best parameters found: \", grid_search.best_params_)\n",
    "print(\"Best score found: \", grid_search.best_score_)\n"
   ]
  },
  {
   "cell_type": "markdown",
   "metadata": {},
   "source": [
    "Optimal Hyperparameters:\n",
    "C=100 and gamma=0.0001 were identified as the best parameters.\n",
    "A C value of 100 suggests that the model benefits from a higher penalty on misclassified data points, which helps in achieving a better classification by allowing the decision boundary to be more flexible to correctly classify as many training samples as possible.\n",
    "A gamma value of 0.0001 indicates that the model performs better when the influence of each individual support vector is more localized, preventing overfitting by not trying to overly bend the decision boundary to accommodate the training data.\n",
    "Best Score: The best average precision score across the cross-validation folds was 0.979, indicating a high ability of the chosen model to retrieve relevant instances. This score is particularly meaningful in imbalanced datasets like fraud detection, where precision (the model's ability to return more relevant results) is crucial."
   ]
  },
  {
   "cell_type": "code",
   "execution_count": 47,
   "metadata": {},
   "outputs": [
    {
     "data": {
      "text/html": [
       "<style>#sk-container-id-3 {color: black;}#sk-container-id-3 pre{padding: 0;}#sk-container-id-3 div.sk-toggleable {background-color: white;}#sk-container-id-3 label.sk-toggleable__label {cursor: pointer;display: block;width: 100%;margin-bottom: 0;padding: 0.3em;box-sizing: border-box;text-align: center;}#sk-container-id-3 label.sk-toggleable__label-arrow:before {content: \"▸\";float: left;margin-right: 0.25em;color: #696969;}#sk-container-id-3 label.sk-toggleable__label-arrow:hover:before {color: black;}#sk-container-id-3 div.sk-estimator:hover label.sk-toggleable__label-arrow:before {color: black;}#sk-container-id-3 div.sk-toggleable__content {max-height: 0;max-width: 0;overflow: hidden;text-align: left;background-color: #f0f8ff;}#sk-container-id-3 div.sk-toggleable__content pre {margin: 0.2em;color: black;border-radius: 0.25em;background-color: #f0f8ff;}#sk-container-id-3 input.sk-toggleable__control:checked~div.sk-toggleable__content {max-height: 200px;max-width: 100%;overflow: auto;}#sk-container-id-3 input.sk-toggleable__control:checked~label.sk-toggleable__label-arrow:before {content: \"▾\";}#sk-container-id-3 div.sk-estimator input.sk-toggleable__control:checked~label.sk-toggleable__label {background-color: #d4ebff;}#sk-container-id-3 div.sk-label input.sk-toggleable__control:checked~label.sk-toggleable__label {background-color: #d4ebff;}#sk-container-id-3 input.sk-hidden--visually {border: 0;clip: rect(1px 1px 1px 1px);clip: rect(1px, 1px, 1px, 1px);height: 1px;margin: -1px;overflow: hidden;padding: 0;position: absolute;width: 1px;}#sk-container-id-3 div.sk-estimator {font-family: monospace;background-color: #f0f8ff;border: 1px dotted black;border-radius: 0.25em;box-sizing: border-box;margin-bottom: 0.5em;}#sk-container-id-3 div.sk-estimator:hover {background-color: #d4ebff;}#sk-container-id-3 div.sk-parallel-item::after {content: \"\";width: 100%;border-bottom: 1px solid gray;flex-grow: 1;}#sk-container-id-3 div.sk-label:hover label.sk-toggleable__label {background-color: #d4ebff;}#sk-container-id-3 div.sk-serial::before {content: \"\";position: absolute;border-left: 1px solid gray;box-sizing: border-box;top: 0;bottom: 0;left: 50%;z-index: 0;}#sk-container-id-3 div.sk-serial {display: flex;flex-direction: column;align-items: center;background-color: white;padding-right: 0.2em;padding-left: 0.2em;position: relative;}#sk-container-id-3 div.sk-item {position: relative;z-index: 1;}#sk-container-id-3 div.sk-parallel {display: flex;align-items: stretch;justify-content: center;background-color: white;position: relative;}#sk-container-id-3 div.sk-item::before, #sk-container-id-3 div.sk-parallel-item::before {content: \"\";position: absolute;border-left: 1px solid gray;box-sizing: border-box;top: 0;bottom: 0;left: 50%;z-index: -1;}#sk-container-id-3 div.sk-parallel-item {display: flex;flex-direction: column;z-index: 1;position: relative;background-color: white;}#sk-container-id-3 div.sk-parallel-item:first-child::after {align-self: flex-end;width: 50%;}#sk-container-id-3 div.sk-parallel-item:last-child::after {align-self: flex-start;width: 50%;}#sk-container-id-3 div.sk-parallel-item:only-child::after {width: 0;}#sk-container-id-3 div.sk-dashed-wrapped {border: 1px dashed gray;margin: 0 0.4em 0.5em 0.4em;box-sizing: border-box;padding-bottom: 0.4em;background-color: white;}#sk-container-id-3 div.sk-label label {font-family: monospace;font-weight: bold;display: inline-block;line-height: 1.2em;}#sk-container-id-3 div.sk-label-container {text-align: center;}#sk-container-id-3 div.sk-container {/* jupyter's `normalize.less` sets `[hidden] { display: none; }` but bootstrap.min.css set `[hidden] { display: none !important; }` so we also need the `!important` here to be able to override the default hidden behavior on the sphinx rendered scikit-learn.org. See: https://github.com/scikit-learn/scikit-learn/issues/21755 */display: inline-block !important;position: relative;}#sk-container-id-3 div.sk-text-repr-fallback {display: none;}</style><div id=\"sk-container-id-3\" class=\"sk-top-container\"><div class=\"sk-text-repr-fallback\"><pre>SVC(C=100, gamma=0.0001)</pre><b>In a Jupyter environment, please rerun this cell to show the HTML representation or trust the notebook. <br />On GitHub, the HTML representation is unable to render, please try loading this page with nbviewer.org.</b></div><div class=\"sk-container\" hidden><div class=\"sk-item\"><div class=\"sk-estimator sk-toggleable\"><input class=\"sk-toggleable__control sk-hidden--visually\" id=\"sk-estimator-id-3\" type=\"checkbox\" checked><label for=\"sk-estimator-id-3\" class=\"sk-toggleable__label sk-toggleable__label-arrow\">SVC</label><div class=\"sk-toggleable__content\"><pre>SVC(C=100, gamma=0.0001)</pre></div></div></div></div></div>"
      ],
      "text/plain": [
       "SVC(C=100, gamma=0.0001)"
      ]
     },
     "execution_count": 47,
     "metadata": {},
     "output_type": "execute_result"
    }
   ],
   "source": [
    "from sklearn.svm import SVC\n",
    "\n",
    "# Initialize the SVM model with the best parameters found\n",
    "optimal_svm = SVC(C=100, gamma=0.0001, kernel='rbf')\n",
    "\n",
    "# Fit the model on your training data\n",
    "optimal_svm.fit(X_train_resampled, y_train_resampled)\n",
    "\n",
    "# Now you can proceed to make predictions with the optimized model, evaluate it, or save it for future use.\n"
   ]
  },
  {
   "cell_type": "code",
   "execution_count": 48,
   "metadata": {},
   "outputs": [
    {
     "data": {
      "text/plain": [
       "array([1, 0, 0, 0, 0])"
      ]
     },
     "execution_count": 48,
     "metadata": {},
     "output_type": "execute_result"
    }
   ],
   "source": [
    "# 11. Making predictions\n",
    "y_pred1 = optimal_svm.predict(X_test)\n",
    "y_pred1[:5]"
   ]
  },
  {
   "cell_type": "code",
   "execution_count": 49,
   "metadata": {},
   "outputs": [
    {
     "data": {
      "text/plain": [
       "43428     1\n",
       "49906     0\n",
       "29474     0\n",
       "276481    0\n",
       "278846    0\n",
       "Name: Class, dtype: int64"
      ]
     },
     "execution_count": 49,
     "metadata": {},
     "output_type": "execute_result"
    }
   ],
   "source": [
    "y_test[:5]"
   ]
  },
  {
   "cell_type": "code",
   "execution_count": 50,
   "metadata": {},
   "outputs": [
    {
     "data": {
      "text/plain": [
       "0.9390862944162437"
      ]
     },
     "execution_count": 50,
     "metadata": {},
     "output_type": "execute_result"
    }
   ],
   "source": [
    "optimal_svm.score(X_train_resampled, y_train_resampled)"
   ]
  },
  {
   "cell_type": "code",
   "execution_count": 51,
   "metadata": {},
   "outputs": [
    {
     "data": {
      "text/plain": [
       "0.9866753274112566"
      ]
     },
     "execution_count": 51,
     "metadata": {},
     "output_type": "execute_result"
    }
   ],
   "source": [
    "optimal_svm.score(X_test, y_test)"
   ]
  },
  {
   "cell_type": "markdown",
   "metadata": {},
   "source": [
    "14. Mathematical Formulas\n",
    "\n",
    "1.SVM Optimization Problem:\n",
    "o\tPrimal Form: min⁡w,b,ξ12∣∣w∣∣2+C∑i=1nξi\n",
    "o\tSubject to: yi(w⋅xi+b)≥1−ξi,ξi≥0 Here, w is the weight vector, b is the bias, C is the penalty parameter, yi are the labels, xi are the feature vectors, and ξi are the slack variables allowing for misclassification.\n",
    "2.Dual Form:\n",
    "o\tMaximize: ∑i=1nαi−12∑i,j=1nyiyjαiαj⟨xi,xj⟩\n",
    "o\tSubject to: ∑i=1nyiαi=0 and 0≤αi≤C Here, αi are the Lagrange multipliers.\n",
    "3.Decision Function:\n",
    "o\tf(x)=sgn(∑i=1nyiαi⟨x,xi⟩+b)The decision function uses the sign of the linear combination of the support vectors weighted by the Lagrange multipliers, dot product with the input vector, plus the bias.\n",
    "4.Kernel Trick:\n",
    "o\tK(xi,xj)=ϕ(xi)⋅ϕ(xj)The kernel function implicitly computes the dot product of vectors in a high-dimensional feature space without explicitly performing the transformation ϕ.\n",
    "5.Precision, Recall, and F1-Score:\n",
    "o\tPrecision: P=TP/TP+FP\n",
    "o\tRecall: R=TP/TP+FN\n",
    "o\tF1-Score: F1=2⋅P⋅R/P+R Here, TP, FP, and FN represent true positives, false positives, and false negatives, respectively.\n",
    "\n",
    "Graphs\n",
    "\n",
    "ROC Curve: The ROC (Receiver Operating Characteristic) curve graphically displays the trade-off between the true positive rate and false positive rate for every possible classification threshold. The AUC (Area Under the Curve) represents the model's ability to discriminate between positive and negative classes.\n",
    "Precision-Recall Curve: This curve shows the trade-off between precision and recall for different thresholds. It is particularly useful for imbalanced datasets.\n",
    "Count Plot (Class Distribution): The bar plot displays the distribution of the two classes. This kind of visualization highlights the class imbalance, with one bar for non-fraudulent (class 0) and another for fraudulent (class 1) transactions.\n",
    "Correlation Matrix: Heat map is used for correlation analysis.\n"
   ]
  },
  {
   "cell_type": "markdown",
   "metadata": {},
   "source": [
    "Kaggle. (2018). Credit Card Fraud Detection [Data set]. https://www.kaggle.com/datasets/mlg-ulb/creditcardfraud/data"
   ]
  }
 ],
 "metadata": {
  "kernelspec": {
   "display_name": "Python 3",
   "language": "python",
   "name": "python3"
  },
  "language_info": {
   "codemirror_mode": {
    "name": "ipython",
    "version": 3
   },
   "file_extension": ".py",
   "mimetype": "text/x-python",
   "name": "python",
   "nbconvert_exporter": "python",
   "pygments_lexer": "ipython3",
   "version": "3.11.5"
  }
 },
 "nbformat": 4,
 "nbformat_minor": 2
}
